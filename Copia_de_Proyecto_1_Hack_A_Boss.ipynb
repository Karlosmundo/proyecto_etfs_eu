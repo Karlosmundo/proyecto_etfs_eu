{
  "cells": [
    {
      "cell_type": "markdown",
      "metadata": {
        "colab_type": "text",
        "id": "view-in-github"
      },
      "source": [
        "<a href=\"https://colab.research.google.com/github/paulandrepamm/proyecto_etfs_eu/blob/main/Copia_de_Proyecto_1_Hack_A_Boss.ipynb\" target=\"_parent\"><img src=\"https://colab.research.google.com/assets/colab-badge.svg\" alt=\"Open In Colab\"/></a>"
      ]
    },
    {
      "cell_type": "markdown",
      "metadata": {
        "id": "KVxsvBcI8dUQ"
      },
      "source": [
        "---\n",
        "\n",
        "# Proyecto 1: Hack a Boss\n",
        "## Análisis del Top 10 ETFs\n",
        "\n",
        "Proyecto de análisis del Top 10 de ETFs.\n",
        "\n",
        "### Documentación del Proyecto\n",
        "\n",
        "1. [Presentación Paula](https://docs.google.com/presentation/d/1Wk4tVhK89EP7b4iiIhvcTk4n5uHJkxgnuADb6Dk_Nto/edit?usp=sharing)\n",
        "\n",
        "### Páginas datos fundamentales\n",
        "1. [MorningStar](https://www.morningstar.es/es/)\n",
        "2. [Dataroma](https://www.dataroma.com/m/home.php)\n",
        "\n",
        "---\n",
        "\n",
        "\n",
        "\n"
      ]
    },
    {
      "cell_type": "markdown",
      "metadata": {
        "id": "qbZkKpyC9AEK"
      },
      "source": [
        "# Google Drive\n",
        "## Esta celda monta **Google Drive** para que podamos guardar los archivos csv y cualquier otro archivo que se vaya generando.\n",
        "### IMPORTANTE (Se crea y se monta la carpeta *Bootcamp_Proyecto1* en **vuestro** Google Drive)"
      ]
    },
    {
      "cell_type": "code",
      "execution_count": null,
      "metadata": {
        "id": "e4Cc5nug5Qck"
      },
      "outputs": [],
      "source": [
        "import os\n",
        "from google.colab import drive\n",
        "\n",
        "# Se monta la carpeta principal de tu Google Drive\n",
        "drive.mount('/content/drive', force_remount=True)\n",
        "# Se define la carpeta de trabajo\n",
        "carpeta_trabajo = '/content/drive/My Drive/Bootcamp_Proyecto1/archivos'\n",
        "# Se comprueba si existe, si no, se crea\n",
        "if not os.path.exists(carpeta_trabajo):\n",
        "    os.makedirs(carpeta_trabajo, exist_ok=True)\n",
        "# Se establece la carpeta como directorio de trabajo\n",
        "os.chdir(carpeta_trabajo)\n",
        "# Comprobación\n",
        "print(f\"El sistema se encuentra en {os.getcwd()}\")"
      ]
    },
    {
      "cell_type": "markdown",
      "metadata": {
        "id": "Fe2VYO2XiTyD"
      },
      "source": [
        "# Importación de **librerías**\n",
        "### Incluid aquí las librerías a instalar e importar"
      ]
    },
    {
      "cell_type": "code",
      "execution_count": null,
      "metadata": {
        "colab": {
          "base_uri": "https://localhost:8080/"
        },
        "id": "rNWwNi4bjsyU",
        "outputId": "f7e885fd-6f68-41a0-ca11-3a93460c8bd2"
      },
      "outputs": [],
      "source": [
        "# Instalar las librerías\n",
        "!pip install yfinance\n",
        "!pip install yahooquery\n"
      ]
    },
    {
      "cell_type": "code",
      "execution_count": 3,
      "metadata": {
        "id": "MlkMIe84ilo-"
      },
      "outputs": [],
      "source": [
        "# Importar las librerías\n",
        "import time\n",
        "import requests\n",
        "import numpy as np\n",
        "import yfinance as yf\n",
        "import yahooquery as yq\n",
        "import pandas as pd\n",
        "import matplotlib.pyplot as plt\n",
        "import seaborn as sns\n",
        "from bs4 import BeautifulSoup\n",
        "from pprint import pprint"
      ]
    },
    {
      "cell_type": "markdown",
      "metadata": {
        "id": "SlJUrQZjA1z9"
      },
      "source": [
        "# Sección Extracción de datos (API y WebScrapin)\n",
        "\n",
        "\n",
        "\n"
      ]
    },
    {
      "cell_type": "code",
      "execution_count": 13,
      "metadata": {
        "id": "lxhQ462raPsG"
      },
      "outputs": [],
      "source": [
        "def seleccion_etf() -> list:\n",
        "    # Obtención de los símbolos del Top ETFs de EEUU\n",
        "    s = yq.Screener()\n",
        "    dict_query = s.get_screeners(['top_etfs_us'])\n",
        "    tickers = [symbol['symbol'] for symbol in dict_query['top_etfs_us']['quotes']]\n",
        "    return tickers\n",
        "    \n",
        "def down_price_vol(tickers:list) -> pd.DataFrame:\n",
        "    '''\n",
        "    Esta función descarga los cambios porcentuales de las cotizaciones\n",
        "    y del volumen de negociación de la lista de símbolos en un dataframe.\n",
        "\n",
        "    Parámetros:\n",
        "    tickers (list): La lista de símbolos.\n",
        "\n",
        "    Retorna:\n",
        "    DataFrame con los incrementos porcentuales de las cotizaciones\n",
        "\n",
        "    Ejemplo:\n",
        "    >>> df_price_vol = down_price_vol(['MSFT'])\n",
        "    '''\n",
        "    # Descarga de las cotizaciones\n",
        "    df = yf.download(tickers, period='max')\n",
        "    # Obtener los nombres de las columnas para 'Adj Close' y 'Volume'\n",
        "    adj_close_cols = [('Adj Close', ticker) for ticker in tickers]\n",
        "    volume_cols = [('Volume', ticker) for ticker in tickers]\n",
        "\n",
        "    # Seleccionar las columnas de interés\n",
        "    df = df[adj_close_cols + volume_cols]\n",
        "    # Eliminar valores nulos y cambiar los precios por incrementos porcentuales\n",
        "    df = df.dropna().pct_change(1).dropna()\n",
        "    # Ordenar y formatear el las columnas\n",
        "    df.columns = [f'{j}.{i}' for i, j in df.columns]\n",
        "    columns = [col for etf in tickers for col in [f'{etf}.Adj Close', f'{etf}.Volume']]\n",
        "    df = df[columns]\n",
        "    df.columns = [col.replace('.Adj Close', '.price').replace('.Volume', '.volume') for col in df.columns]\n",
        "    return df\n",
        "\n",
        "def web_scraping_sectors(tickers:list) -> pd.DataFrame:\n",
        "    '''\n",
        "    Esta función hace web scraping a la página de Yahoo Finance\n",
        "    para obtener la distribución en los sectores en los que está\n",
        "    invertido el ETF\n",
        "\n",
        "    Parámetros:\n",
        "    tickers (list): La lista de símbolos.\n",
        "\n",
        "    Retorna:\n",
        "    DataFrame con los porcentajes de la distribución de sectores\n",
        "\n",
        "    Ejemplo:\n",
        "    >>> df_sectores = web_scraping_sectores()\n",
        "    '''\n",
        "    url_base = \"https://es.finance.yahoo.com/quote/\"\n",
        "    lista_sectores = [\n",
        "        \"Materiales básicos\", \"Acciones cíclicas\", \"Servicios financieros\",\n",
        "        \"Propiedades inmobiliarias\", \"Acciones defensivas\", \"Atención sanitaria\",\n",
        "        \"Utilidades\", \"Servicios de comunicación\", \"Energía\", \"Industriales\",\n",
        "        \"Tecnología\"\n",
        "    ]\n",
        "    dict_sectores = {}\n",
        "    for etf in tickers:\n",
        "        url = f'{url_base}{etf}/holdings?p={etf}'\n",
        "        response = requests.get(\n",
        "            url,\n",
        "            headers = {'User-Agent':'Mozilla/5.0 (Windows NT 10.0; Win64; x64) AppleWebKit/537.36 (KHTML, like Gecko) Chrome/91.0.4472.124 Safari/537.36'}\n",
        "            )\n",
        "        soup = BeautifulSoup(response.text, 'html.parser')\n",
        "        sectores_etf = {}\n",
        "        lista_contenedores = soup.findAll('div', class_='Bdbw(1px) Bdbc($seperatorColor) Bdbs(s) H(25px) Pt(10px)')\n",
        "        for item in lista_contenedores:\n",
        "            sector = item.find('span', class_='Mend(5px) Whs(nw)').text\n",
        "            if sector in lista_sectores:\n",
        "                valor = item.find('span', class_='W(20%) D(b) Fl(start) Ta(e)').text\n",
        "                sectores_etf[sector] = valor\n",
        "        dict_sectores[etf] = sectores_etf\n",
        "        time.sleep(0.5)\n",
        "    # Retornar DataFrame\n",
        "    return pd.DataFrame.from_dict(dict_sectores)\n",
        "\n",
        "def tabla_net_assets(tickers:list) -> pd.DataFrame:\n",
        "    #Net assets table\n",
        "\n",
        "    headers = {\n",
        "        \"User-Agent\": \"Mozilla/5.0 (Windows NT 10.0; Win64; x64) AppleWebKit/537.36 (KHTML, like Gecko) Chrome/85.0.4183.121 Safari/537.36\"\n",
        "    }\n",
        "\n",
        "    net_assets = pd.DataFrame()\n",
        "\n",
        "    for ticker in tickers:\n",
        "\n",
        "        url = f\"https://finance.yahoo.com/quote/{ticker}?p={ticker}\"\n",
        "        response = requests.get(url, headers=headers)\n",
        "\n",
        "        try:\n",
        "            tables = pd.read_html(response.text)\n",
        "            for table in tables:\n",
        "                labels_to_remove = [\"Previous Close\", \"Open\", \"Bid\", \"Ask\", \"Day's Range\", \"52 Week Range\", \"Volume\",\"Avg. Volume\"]\n",
        "                table = table[~table.iloc[:, 0].isin(labels_to_remove)]\n",
        "\n",
        "                data_series = pd.Series(dict(zip(table.iloc[:, 0], table.iloc[:, 1])))\n",
        "\n",
        "                net_assets[ticker] = data_series\n",
        "        except ValueError:\n",
        "            print(f\"No hay tablas para {ticker}\")\n",
        "\n",
        "    net_assets = net_assets.T\n",
        "\n",
        "    return(net_assets)\n",
        "\n",
        "def portafolio_activos_etfs(tickers:list)->pd.DataFrame:\n",
        "    headers = {\n",
        "        \"User-Agent\": \"Mozilla/5.0 (Windows NT 10.0; Win64; x64) AppleWebKit/537.36 (KHTML, like Gecko) Chrome/85.0.4183.121 Safari/537.36\"\n",
        "    }\n",
        "\n",
        "    all_dataframes = []\n",
        "\n",
        "    for ticker in tickers:\n",
        "        print(f\"Fetching tables for {ticker}...\")\n",
        "\n",
        "        url = f\"https://finance.yahoo.com/quote/{ticker}/holdings?p={ticker}\"\n",
        "        response = requests.get(url, headers=headers)\n",
        "\n",
        "        try:\n",
        "            tables = pd.read_html(response.text)\n",
        "            for table in tables:\n",
        "                table['Ticker'] = ticker  # Add the 'Ticker' column\n",
        "                all_dataframes.append(table)\n",
        "        except ValueError:\n",
        "            print(f\"No tables found for {ticker}\")\n",
        "\n",
        "    # Concatenate all dataframes\n",
        "    merged_df = pd.concat(all_dataframes, ignore_index=True)\n",
        "\n",
        "    return(merged_df)"
      ]
    },
    {
      "cell_type": "code",
      "execution_count": null,
      "metadata": {
        "id": "51_aHFW4rSEw"
      },
      "outputs": [],
      "source": [
        "tickers = seleccion_etf()\n",
        "df_price_vol = down_price_vol(tickers)\n",
        "df_sect_dist = web_scraping_sectors(tickers)\n",
        "df_net_activos = tabla_net_assets(tickers)\n",
        "df_portafolio_activos = portafolio_activos_etfs(tickers)"
      ]
    },
    {
      "cell_type": "markdown",
      "metadata": {
        "id": "hmhqF1XRBXjT"
      },
      "source": [
        "# Carga de datos a Airtable"
      ]
    },
    {
      "cell_type": "code",
      "execution_count": null,
      "metadata": {
        "colab": {
          "base_uri": "https://localhost:8080/"
        },
        "id": "EZLaNQ1j_1Mj",
        "outputId": "3c033cc9-8d7a-4f67-cb1d-81a0b1b75b30"
      },
      "outputs": [],
      "source": []
    },
    {
      "cell_type": "code",
      "execution_count": 27,
      "metadata": {
        "id": "ZAFTw6fEBd_G"
      },
      "outputs": [],
      "source": [
        "\n"
      ]
    },
    {
      "cell_type": "code",
      "execution_count": 26,
      "metadata": {
        "id": "YnmoiW9RFGtk"
      },
      "outputs": [],
      "source": [
        "\n"
      ]
    },
    {
      "cell_type": "code",
      "execution_count": null,
      "metadata": {
        "id": "-FYLGe02Bmcr"
      },
      "outputs": [],
      "source": []
    },
    {
      "cell_type": "code",
      "execution_count": null,
      "metadata": {
        "id": "FV__iUCwBxBZ"
      },
      "outputs": [],
      "source": [
        "\n"
      ]
    },
    {
      "cell_type": "markdown",
      "metadata": {
        "id": "t5ckS1EcBdJw"
      },
      "source": [
        "# Sección Karlos"
      ]
    },
    {
      "cell_type": "code",
      "execution_count": null,
      "metadata": {
        "id": "shpoLlI7BhP4"
      },
      "outputs": [],
      "source": []
    },
    {
      "cell_type": "markdown",
      "metadata": {
        "id": "SLyPfgjRBiLZ"
      },
      "source": [
        "# Sección Josep"
      ]
    },
    {
      "cell_type": "code",
      "execution_count": null,
      "metadata": {
        "id": "aY6rgjUuBlCX"
      },
      "outputs": [],
      "source": [
        "df\n"
      ]
    },
    {
      "cell_type": "code",
      "execution_count": null,
      "metadata": {
        "id": "cGt0L9JFbZst"
      },
      "outputs": [],
      "source": [
        "df_describe = df.describe()\n",
        "df_describe\n"
      ]
    },
    {
      "cell_type": "code",
      "execution_count": null,
      "metadata": {
        "id": "hhtkGunubehc"
      },
      "outputs": [],
      "source": []
    }
  ],
  "metadata": {
    "colab": {
      "collapsed_sections": [
        "qbZkKpyC9AEK",
        "Fe2VYO2XiTyD",
        "hmhqF1XRBXjT",
        "t5ckS1EcBdJw",
        "SLyPfgjRBiLZ"
      ],
      "include_colab_link": true,
      "provenance": []
    },
    "kernelspec": {
      "display_name": "Python 3",
      "name": "python3"
    },
    "language_info": {
      "codemirror_mode": {
        "name": "ipython",
        "version": 3
      },
      "file_extension": ".py",
      "mimetype": "text/x-python",
      "name": "python",
      "nbconvert_exporter": "python",
      "pygments_lexer": "ipython3",
      "version": "3.11.6"
    }
  },
  "nbformat": 4,
  "nbformat_minor": 0
}

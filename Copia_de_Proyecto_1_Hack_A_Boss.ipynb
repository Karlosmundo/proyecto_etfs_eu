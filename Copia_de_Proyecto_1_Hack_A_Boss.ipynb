{
  "cells": [
    {
      "cell_type": "markdown",
      "metadata": {
        "id": "KVxsvBcI8dUQ"
      },
      "source": [
        "---\n",
        "\n",
        "# Proyecto 1: Hack a Boss\n",
        "## Análisis del Top 10 ETFs\n",
        "\n",
        "Proyecto de análisis del Top 10 de ETFs.\n",
        "\n",
        "### Documentación del Proyecto\n",
        "\n",
        "1. [Presentación Paula](https://docs.google.com/presentation/d/1Wk4tVhK89EP7b4iiIhvcTk4n5uHJkxgnuADb6Dk_Nto/edit?usp=sharing)\n",
        "\n",
        "### Páginas datos fundamentales\n",
        "1. [MorningStar](https://www.morningstar.es/es/)\n",
        "2. [Dataroma](https://www.dataroma.com/m/home.php)\n",
        "\n",
        "---\n",
        "\n",
        "\n",
        "\n"
      ]
    },
    {
      "cell_type": "markdown",
      "metadata": {
        "id": "Fe2VYO2XiTyD"
      },
      "source": [
        "# Importación de **librerías**\n",
        "### Incluid aquí las librerías a instalar e importar"
      ]
    },
    {
      "cell_type": "code",
      "execution_count": null,
      "metadata": {
        "colab": {
          "base_uri": "https://localhost:8080/"
        },
        "id": "rNWwNi4bjsyU",
        "outputId": "f7e885fd-6f68-41a0-ca11-3a93460c8bd2"
      },
      "outputs": [],
      "source": [
        "# Instalar las librerías\n",
        "!pip install yfinance\n",
        "!pip install yahooquery\n",
        "!pip install airtable-python-wrapper"
      ]
    },
    {
      "cell_type": "code",
      "execution_count": 27,
      "metadata": {
        "id": "MlkMIe84ilo-"
      },
      "outputs": [],
      "source": [
        "# Importar las librerías\n",
        "import time\n",
        "import requests\n",
        "import warnings\n",
        "import numpy as np\n",
        "import yfinance as yf\n",
        "import yahooquery as yq\n",
        "import pandas as pd\n",
        "import matplotlib.pyplot as plt\n",
        "import seaborn as sns\n",
        "from bs4 import BeautifulSoup\n",
        "from pprint import pprint\n",
        "import airtable\n",
        "from tqdm import tqdm\n",
        "warnings.filterwarnings(\"ignore\")"
      ]
    },
    {
      "cell_type": "markdown",
      "metadata": {
        "id": "SlJUrQZjA1z9"
      },
      "source": [
        "# Sección Extracción de datos (API y WebScraping)\n",
        "\n",
        "\n",
        "\n"
      ]
    },
    {
      "cell_type": "code",
      "execution_count": 30,
      "metadata": {
        "id": "lxhQ462raPsG"
      },
      "outputs": [],
      "source": [
        "HEADERS = {'User-Agent':'Mozilla/5.0 (Windows NT 10.0; Win64; x64) AppleWebKit/537.36 (KHTML, like Gecko) Chrome/91.0.4472.124 Safari/537.36'}\n",
        "\n",
        "def seleccion_etf(tipo_etfs:str, num:int) -> list:\n",
        "    # Obtención de los símbolos del Top ETFs de EEUU\n",
        "    s = yq.Screener()\n",
        "    dict_query = s.get_screeners(tipo_etfs, num)\n",
        "    tickers = [symbol['symbol'] for symbol in dict_query[tipo_etfs]['quotes']]\n",
        "    return tickers\n",
        "\n",
        "def corregir_nombres_columnas(df_columns:pd.Index) -> pd.Index:\n",
        "    # Eliminar caracteres especiales\n",
        "    df_columns = df_columns.str.replace('[^\\w\\s]', '', regex=True)\n",
        "    # Sustituir espacios por _\n",
        "    df_columns = df_columns.str.replace(' ', '_')\n",
        "    # Retornar el DF\n",
        "    return(df_columns)\n",
        "    \n",
        "def down_price_vol(tickers:list) -> pd.DataFrame:\n",
        "    # Descarga de las cotizaciones\n",
        "    df = yf.download(tickers, period='max')\n",
        "    # Obtener los nombres de las columnas para 'Adj Close' y 'Volume'\n",
        "    adj_close_cols = [('Adj Close', ticker) for ticker in tickers]\n",
        "    volume_cols = [('Volume', ticker) for ticker in tickers]\n",
        "\n",
        "    # Seleccionar las columnas de interés\n",
        "    df = df[adj_close_cols + volume_cols]\n",
        "    # Eliminar valores nulos y cambiar los precios por incrementos porcentuales\n",
        "    df = df.dropna().pct_change(1).dropna()\n",
        "    df.replace([np.inf, -np.inf], np.nan, inplace=True)\n",
        "    df.dropna(inplace=True)\n",
        "    # Ordenar y formatear el las columnas\n",
        "    '''\n",
        "    df_stack = df.stack(level=1)\n",
        "    df_reset = df_stack.reset_index()\n",
        "    df_final = df_reset.rename(columns={'level_0': 'Date', 'level_1': 'Ticker'})\n",
        "    df_final = df_final.melt(id_vars=['Date', 'Ticker'], var_name='Attribute', value_name='Value')\n",
        "    df_pivot = df_final.pivot_table(index=['Date', 'Ticker'], columns='Attribute', values='Value').reset_index()\n",
        "    df_pivot.columns.name = None\n",
        "    df = df_pivot.rename(columns={'Adj Close': 'Price', 'Volume': 'Volume'})\n",
        "    '''\n",
        "    df.columns = [f'{j}.{i}' for i, j in df.columns]\n",
        "    columns = [col for etf in tickers for col in [f'{etf}.Adj Close', f'{etf}.Volume']]\n",
        "    df = df[columns]\n",
        "    df.columns = [col.replace('.Adj Close', '.price').replace('.Volume', '.volume') for col in df.columns]\n",
        "    # Retornar DataFrame\n",
        "    return(df)\n",
        "\n",
        "def web_scraping_sectors(tickers:list) -> pd.DataFrame:\n",
        "    url_base = \"https://es.finance.yahoo.com/quote/\"\n",
        "    lista_sectores = [\n",
        "        \"Materiales básicos\", \"Acciones cíclicas\", \"Servicios financieros\",\n",
        "        \"Propiedades inmobiliarias\", \"Acciones defensivas\", \"Atención sanitaria\",\n",
        "        \"Utilidades\", \"Servicios de comunicación\", \"Energía\", \"Industriales\",\n",
        "        \"Tecnología\"\n",
        "    ]\n",
        "    dict_sectores = {}\n",
        "    for etf in tqdm(tickers):\n",
        "        url = f'{url_base}{etf}/holdings?p={etf}'\n",
        "        response = requests.get(\n",
        "            url,\n",
        "            headers = HEADERS\n",
        "            )\n",
        "        soup = BeautifulSoup(response.text, 'html.parser')\n",
        "        sectores_etf = {}\n",
        "        lista_contenedores = soup.findAll('div', class_='Bdbw(1px) Bdbc($seperatorColor) Bdbs(s) H(25px) Pt(10px)')\n",
        "        for item in lista_contenedores:\n",
        "            sector = item.find('span', class_='Mend(5px) Whs(nw)').text\n",
        "            if sector in lista_sectores:\n",
        "                valor = item.find('span', class_='W(20%) D(b) Fl(start) Ta(e)').text\n",
        "                sectores_etf[sector] = valor\n",
        "        dict_sectores[etf] = sectores_etf\n",
        "    # Convertir diccionario en dataframe\n",
        "    df = pd.DataFrame.from_dict(dict_sectores).T\n",
        "    # Convertir todas las entradas a strings, eliminar el '%' y reemplazar comas por puntos\n",
        "    df = df.map(lambda x: str(x).replace('%', '').replace(',', '.'))\n",
        "    # Convertir las cadenas a números flotantes y dividir por 100 para tener los porcentajes en formato decimal\n",
        "    df = df.map(lambda x: float(x) / 100.0 if x != 'N/A' else 0)\n",
        "    # Quitar los espacios\n",
        "    df.columns = corregir_nombres_columnas(df.columns)\n",
        "    # Resetear índice\n",
        "    df = df.reset_index()\n",
        "    df = df.rename(columns={'index':'Ticker'})\n",
        "    # Retornar DataFrame\n",
        "    return (df)\n",
        "\n",
        "def tabla_net_assets(tickers:list) -> pd.DataFrame:\n",
        "    def convertir_valor(valor):\n",
        "        if 'M' in valor:\n",
        "            return float(valor.replace('M', ''))\n",
        "        elif 'B' in valor:\n",
        "            return float(valor.replace('B', '')) * 1000\n",
        "        else:\n",
        "            return float(valor)\n",
        "\n",
        "    #Net assets table\n",
        "\n",
        "    net_assets = pd.DataFrame()\n",
        "\n",
        "    for ticker in tqdm(tickers):\n",
        "\n",
        "        url = f\"https://finance.yahoo.com/quote/{ticker}?p={ticker}\"\n",
        "        response = requests.get(url, headers=HEADERS)\n",
        "\n",
        "        try:\n",
        "            tables = pd.read_html(response.text)\n",
        "            for table in tables:\n",
        "                labels_to_remove = [\"Previous Close\", \"Open\", \"Bid\", \"Ask\", \"Day's Range\", \"52 Week Range\", \"Volume\",\"Avg. Volume\"]\n",
        "                table = table[~table.iloc[:, 0].isin(labels_to_remove)]\n",
        "\n",
        "                data_series = pd.Series(dict(zip(table.iloc[:, 0], table.iloc[:, 1])))\n",
        "\n",
        "                net_assets[ticker] = data_series\n",
        "        except ValueError:\n",
        "            print(f\"No hay tablas para {ticker}\")\n",
        "\n",
        "    net_assets = net_assets.T\n",
        "    # Eliminar columnas\n",
        "    df = net_assets.drop(['NAV', 'PE Ratio (TTM)', 'Expense Ratio (net)'], axis=1)\n",
        "    # Corregir nombres de columnas\n",
        "    df.columns = corregir_nombres_columnas(df.columns)\n",
        "    # Convertir todas las entradas a strings, eliminar el '%' y reemplazar comas por puntos\n",
        "    df[['Yield', 'YTD_Daily_Total_Return']] = df[['Yield', 'YTD_Daily_Total_Return']].map(lambda x: str(x).replace('%', ''))\n",
        "    # Convertir las cadenas a números flotantes y dividir por 100 para tener los porcentajes en formato decimal\n",
        "    df[['Yield', 'YTD_Daily_Total_Return']] = df[['Yield', 'YTD_Daily_Total_Return']].map(lambda x: float(x) / 100.0)\n",
        "    # Convertir la columna Beta a float\n",
        "    df['Beta_5Y_Monthly'] = df['Beta_5Y_Monthly'].astype(float)\n",
        "    # Convertir Inception_Date en datetime\n",
        "    df['Inception_Date'] = pd.to_datetime(df['Inception_Date'], format='%Y-%m-%d')\n",
        "    # Reformatear columna Net_Assets\n",
        "    df['Net_Assets_Millions'] = df['Net_Assets'].apply(convertir_valor)\n",
        "    df = df.drop('Net_Assets', axis=1)\n",
        "    # Resetear índice\n",
        "    df = df.reset_index()\n",
        "    df = df.rename(columns={'index':'Ticker'})\n",
        "    # Retornar df\n",
        "    return(df)\n",
        "\n",
        "def portafolio_activos_etfs(tickers:list)->pd.DataFrame:\n",
        "    all_dataframes = []\n",
        "\n",
        "    for ticker in tqdm(tickers):\n",
        "\n",
        "        url = f\"https://finance.yahoo.com/quote/{ticker}/holdings?p={ticker}\"\n",
        "        response = requests.get(url, headers=HEADERS)\n",
        "\n",
        "        try:\n",
        "            tables = pd.read_html(response.text)\n",
        "            for table in tables:\n",
        "                table['Ticker'] = ticker  # Add the 'Ticker' column\n",
        "                all_dataframes.append(table)\n",
        "        except ValueError:\n",
        "            print(f\"No tables found for {ticker}\")\n",
        "        break\n",
        "\n",
        "    # Concatenate all dataframes\n",
        "    df = pd.concat(all_dataframes, ignore_index=True)\n",
        "    # Corregir nombres de columnas\n",
        "    print(df.columns)\n",
        "    df.columns = corregir_nombres_columnas(df.columns)\n",
        "    df.rename(columns={\"_Assets\":\"Assets\"}, inplace=True)\n",
        "    # Convertir todas las entradas a strings, eliminar el '%' y reemplazar comas por puntos\n",
        "    df['Assets'] = df['Assets'].map(lambda x: str(x).replace('%', ''))\n",
        "    # Convertir las cadenas a números flotantes y dividir por 100 para tener los porcentajes en formato decimal\n",
        "    df['Assets'] = df['Assets'].map(lambda x: float(x) / 100.0)\n",
        "    # Retornar df\n",
        "    return(df)"
      ]
    },
    {
      "cell_type": "code",
      "execution_count": 18,
      "metadata": {},
      "outputs": [],
      "source": [
        "# Esta línea se ha de ejecutar una sola vez\n",
        "# en todo el proyecto, si se hace, es posible que\n",
        "# el Top de ETFs cambie y no se correspondan con los\n",
        "# almacenados en Airtable\n",
        "tickers = seleccion_etf('top_etfs_us', 100)"
      ]
    },
    {
      "cell_type": "code",
      "execution_count": null,
      "metadata": {
        "id": "51_aHFW4rSEw"
      },
      "outputs": [],
      "source": [
        "df_price_vol = down_price_vol(tickers)\n",
        "df_sect_dist = web_scraping_sectors(tickers)\n",
        "df_net_activos = tabla_net_assets(tickers)\n",
        "df_portafolio_activos = portafolio_activos_etfs(tickers)"
      ]
    },
    {
      "cell_type": "markdown",
      "metadata": {
        "id": "hmhqF1XRBXjT"
      },
      "source": [
        "# Carga de datos a Airtable"
      ]
    },
    {
      "cell_type": "code",
      "execution_count": null,
      "metadata": {},
      "outputs": [],
      "source": [
        "# Parámetros de airtable y creación del objeto airtable\n",
        "base_id = 'app8fsCvHI7Tau4le'\n",
        "api_key = 'patyBg6zyoW4EXNI7.205cca8c88a716fa4010850bd58995623d060734e24fa937be40f428d3bfb7fe'\n",
        "# Definir tabla id con dataframe\n",
        "lista_dataframes = [\n",
        "    ('tbl5GKDEdJoTMXTci', df_price_vol),\n",
        "    ('tblWV2ERYBOrXozth', df_sect_dist),\n",
        "    ('tblvbY1n5rzmFyBqZ', df_net_activos),\n",
        "    ('tblvxs74FGznyUCfL', df_portafolio_activos)\n",
        "    ]"
      ]
    },
    {
      "cell_type": "code",
      "execution_count": null,
      "metadata": {},
      "outputs": [],
      "source": [
        "for tid, df in lista_dataframes:\n",
        "    df.iloc[0:1].to_csv(f'{tid}.csv', index=False) "
      ]
    },
    {
      "cell_type": "code",
      "execution_count": null,
      "metadata": {},
      "outputs": [],
      "source": [
        "# Bucle para subir los datos a Airtable\n",
        "for tabla_id, dataframe in lista_dataframes:\n",
        "    air = airtable.Airtable(base_id=base_id, table_name=tabla_id, api_key=api_key)\n",
        "    for i in range(0, len(dataframe), 10):\n",
        "        bloque = dataframe.iloc[i:i+10]\n",
        "        registros = bloque.to_dict(orient=\"records\")\n",
        "        air.batch_insert(registros)"
      ]
    },
    {
      "cell_type": "markdown",
      "metadata": {
        "id": "t5ckS1EcBdJw"
      },
      "source": [
        "# Sección Funciones Estadísticas"
      ]
    },
    {
      "cell_type": "markdown",
      "metadata": {},
      "source": [
        "### Identificar el sector con la mayor inversión en promedio"
      ]
    },
    {
      "cell_type": "code",
      "execution_count": null,
      "metadata": {
        "id": "shpoLlI7BhP4"
      },
      "outputs": [],
      "source": [
        "# Dataframe con los activos netos\n",
        "df_divsf_rend = df_sect_dist\n",
        "df_divsf_rend['Rentabilidad'] = df_net_activos['Yield']\n",
        "df_divsf_rend['Riesgo'] = df_net_activos['Beta_5Y_Monthly']\n",
        "# Cálculo y selección\n",
        "sector_columns = df_divsf_rend.columns[2:-3]\n",
        "df_divsf_rend = df_divsf_rend[sector_columns].mean().sort_values(ascending=False)\n",
        "# Visualización\n",
        "plt.figure(figsize=(14,7))\n",
        "df_divsf_rend.plot(kind='bar', color='skyblue')\n",
        "plt.title('Inversión Promedio en Cada Sector')\n",
        "plt.xlabel('Sectores')\n",
        "plt.ylabel('Inversión Promedio (Proporción)')\n",
        "plt.xticks(rotation=45)\n",
        "plt.tight_layout()\n",
        "plt.show()"
      ]
    },
    {
      "cell_type": "markdown",
      "metadata": {},
      "source": [
        "### Determinar el umbral para los ETFs más rentables (el cuartil superior)"
      ]
    },
    {
      "cell_type": "code",
      "execution_count": null,
      "metadata": {},
      "outputs": [],
      "source": [
        "df_divsf_rend = df_sect_dist\n",
        "threshold_rentabilidad = df_divsf_rend['Rentabilidad'].quantile(0.75)\n",
        "etfs_mas_rentables = df_divsf_rend[df_divsf_rend['Rentabilidad'] >= threshold_rentabilidad]\n",
        "# Calcular\n",
        "df_divsf_rend = etfs_mas_rentables[sector_columns].mean().sort_values(ascending=False)\n",
        "# Visualizar\n",
        "plt.figure(figsize=(14,7))\n",
        "df_divsf_rend.plot(kind='bar', color='green')\n",
        "plt.title('Inversión Promedio en Cada Sector para los ETFs más Rentables')\n",
        "plt.xlabel('Sectores')\n",
        "plt.ylabel('Inversión Promedio (Proporción)')\n",
        "plt.xticks(rotation=45)\n",
        "plt.tight_layout()\n",
        "plt.show()"
      ]
    },
    {
      "cell_type": "markdown",
      "metadata": {},
      "source": [
        "### Top rentabilidad-riesgo ETFs"
      ]
    },
    {
      "cell_type": "code",
      "execution_count": null,
      "metadata": {},
      "outputs": [],
      "source": [
        "df_divsf_rend = df_sect_dist\n",
        "# Definir umbrales de riesgo utilizando la mediana como punto de corte\n",
        "median_risk = df_divsf_rend['Riesgo'].median()\n",
        "\n",
        "# ETFs más rentables con menos riesgo\n",
        "etfs_rentables_menos_riesgo = etfs_mas_rentables[etfs_mas_rentables['Riesgo'] <= median_risk]\n",
        "\n",
        "# ETFs más rentables con más riesgo\n",
        "etfs_rentables_mas_riesgo = etfs_mas_rentables[etfs_mas_rentables['Riesgo'] > median_risk]\n",
        "\n",
        "# Identificar los ETFs específicos\n",
        "# Más rentables con menos riesgo\n",
        "etfs_rentables_menos_riesgo_sorted = etfs_rentables_menos_riesgo.sort_values(by=['Rentabilidad', 'Riesgo'], ascending=[False, True])\n",
        "\n",
        "# Más rentables con más riesgo\n",
        "etfs_rentables_mas_riesgo_sorted = etfs_rentables_mas_riesgo.sort_values(by=['Rentabilidad', 'Riesgo'], ascending=[False, False])\n",
        "\n",
        "etfs_rentables_menos_riesgo_sorted[['Ticker', 'Rentabilidad', 'Riesgo']], etfs_rentables_mas_riesgo_sorted[['Ticker', 'Rentabilidad', 'Riesgo']]\n",
        "\n",
        "# Configurar el tamaño del gráfico\n",
        "plt.figure(figsize=(14,10))\n",
        "\n",
        "# Graficar los ETFs más rentables con menos riesgo en verde\n",
        "sns.scatterplot(\n",
        "    data=etfs_rentables_menos_riesgo_sorted,\n",
        "    x='Riesgo', \n",
        "    y='Rentabilidad', \n",
        "    color='green', \n",
        "    label='Menos Riesgo',\n",
        "    s=50  # Tamaño del punto\n",
        ")\n",
        "\n",
        "# Graficar los ETFs más rentables con más riesgo en rojo\n",
        "sns.scatterplot(\n",
        "    data=etfs_rentables_mas_riesgo_sorted,\n",
        "    x='Riesgo', \n",
        "    y='Rentabilidad', \n",
        "    color='red', \n",
        "    label='Más Riesgo',\n",
        "    s=50  # Tamaño del punto\n",
        ")\n",
        "\n",
        "# Añadir anotaciones para los tickers\n",
        "for line in range(0, etfs_rentables_menos_riesgo_sorted.shape[0]):\n",
        "    plt.text(\n",
        "        etfs_rentables_menos_riesgo_sorted['Riesgo'].iloc[line]+0.01,  # Posición en X con un pequeño offset\n",
        "        etfs_rentables_menos_riesgo_sorted['Rentabilidad'].iloc[line],  # Posición en Y\n",
        "        etfs_rentables_menos_riesgo_sorted['Ticker'].iloc[line],  # Texto de la anotación\n",
        "        horizontalalignment='left',\n",
        "        size='medium',\n",
        "        color='black',\n",
        "        weight='semibold'\n",
        "    )\n",
        "\n",
        "for line in range(0, etfs_rentables_mas_riesgo_sorted.shape[0]):\n",
        "    plt.text(\n",
        "        etfs_rentables_mas_riesgo_sorted['Riesgo'].iloc[line]+0.01,  # Posición en X con un pequeño offset\n",
        "        etfs_rentables_mas_riesgo_sorted['Rentabilidad'].iloc[line],  # Posición en Y\n",
        "        etfs_rentables_mas_riesgo_sorted['Ticker'].iloc[line],  # Texto de la anotación\n",
        "        horizontalalignment='left',\n",
        "        size='medium',\n",
        "        color='black',\n",
        "        weight='semibold'\n",
        "    )\n",
        "\n",
        "# Título y etiquetas\n",
        "plt.title('ETFs más Rentables con Menos Riesgo vs. Más Riesgo')\n",
        "plt.xlabel('Riesgo')\n",
        "plt.ylabel('Rentabilidad')\n",
        "plt.legend()\n",
        "\n",
        "# Mostrar el gráfico\n",
        "plt.show()"
      ]
    }
  ],
  "metadata": {
    "colab": {
      "collapsed_sections": [
        "qbZkKpyC9AEK",
        "Fe2VYO2XiTyD",
        "hmhqF1XRBXjT",
        "t5ckS1EcBdJw",
        "SLyPfgjRBiLZ"
      ],
      "include_colab_link": true,
      "provenance": []
    },
    "kernelspec": {
      "display_name": "Python 3",
      "name": "python3"
    },
    "language_info": {
      "codemirror_mode": {
        "name": "ipython",
        "version": 3
      },
      "file_extension": ".py",
      "mimetype": "text/x-python",
      "name": "python",
      "nbconvert_exporter": "python",
      "pygments_lexer": "ipython3",
      "version": "3.11.6"
    }
  },
  "nbformat": 4,
  "nbformat_minor": 0
}

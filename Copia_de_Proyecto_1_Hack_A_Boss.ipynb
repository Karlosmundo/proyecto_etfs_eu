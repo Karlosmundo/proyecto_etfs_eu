{
  "cells": [
    {
      "cell_type": "markdown",
      "metadata": {
        "colab_type": "text",
        "id": "view-in-github"
      },
      "source": [
        "<a href=\"https://colab.research.google.com/github/paulandrepamm/proyecto_etfs_eu/blob/main/Copia_de_Proyecto_1_Hack_A_Boss.ipynb\" target=\"_parent\"><img src=\"https://colab.research.google.com/assets/colab-badge.svg\" alt=\"Open In Colab\"/></a>"
      ]
    },
    {
      "cell_type": "markdown",
      "metadata": {
        "id": "KVxsvBcI8dUQ"
      },
      "source": [
        "---\n",
        "\n",
        "# Proyecto 1: Hack a Boss\n",
        "## Análisis del Top 10 ETFs\n",
        "\n",
        "Proyecto de análisis del Top 10 de ETFs.\n",
        "\n",
        "### Documentación del Proyecto\n",
        "\n",
        "1. [Presentación Paula](https://docs.google.com/presentation/d/1Wk4tVhK89EP7b4iiIhvcTk4n5uHJkxgnuADb6Dk_Nto/edit?usp=sharing)\n",
        "\n",
        "### Páginas datos fundamentales\n",
        "1. [MorningStar](https://www.morningstar.es/es/)\n",
        "2. [Dataroma](https://www.dataroma.com/m/home.php)\n",
        "\n",
        "---\n",
        "\n",
        "\n",
        "\n"
      ]
    },
    {
      "cell_type": "markdown",
      "metadata": {
        "id": "qbZkKpyC9AEK"
      },
      "source": [
        "# Google Drive\n",
        "## Esta celda monta **Google Drive** para que podamos guardar los archivos csv y cualquier otro archivo que se vaya generando.\n",
        "### IMPORTANTE (Se crea y se monta la carpeta *Bootcamp_Proyecto1* en **vuestro** Google Drive)"
      ]
    },
    {
      "cell_type": "code",
      "execution_count": null,
      "metadata": {
        "id": "e4Cc5nug5Qck"
      },
      "outputs": [],
      "source": [
        "import os\n",
        "from google.colab import drive\n",
        "\n",
        "# Se monta la carpeta principal de tu Google Drive\n",
        "drive.mount('/content/drive', force_remount=True)\n",
        "# Se define la carpeta de trabajo\n",
        "carpeta_trabajo = '/content/drive/My Drive/Bootcamp_Proyecto1/archivos'\n",
        "# Se comprueba si existe, si no, se crea\n",
        "if not os.path.exists(carpeta_trabajo):\n",
        "    os.makedirs(carpeta_trabajo, exist_ok=True)\n",
        "# Se establece la carpeta como directorio de trabajo\n",
        "os.chdir(carpeta_trabajo)\n",
        "# Comprobación\n",
        "print(f\"El sistema se encuentra en {os.getcwd()}\")"
      ]
    },
    {
      "cell_type": "markdown",
      "metadata": {
        "id": "Fe2VYO2XiTyD"
      },
      "source": [
        "# Importación de **librerías**\n",
        "### Incluid aquí las librerías a instalar e importar"
      ]
    },
    {
      "cell_type": "code",
      "execution_count": null,
      "metadata": {
        "colab": {
          "base_uri": "https://localhost:8080/"
        },
        "id": "rNWwNi4bjsyU",
        "outputId": "f7e885fd-6f68-41a0-ca11-3a93460c8bd2"
      },
      "outputs": [],
      "source": [
        "# Instalar las librerías\n",
        "!pip install yfinance\n",
        "!pip install yahooquery\n",
        "!pip install airtable-python-wrapper"
      ]
    },
    {
      "cell_type": "code",
      "execution_count": 64,
      "metadata": {
        "id": "MlkMIe84ilo-"
      },
      "outputs": [],
      "source": [
        "# Importar las librerías\n",
        "import time\n",
        "import requests\n",
        "import warnings\n",
        "import numpy as np\n",
        "import yfinance as yf\n",
        "import yahooquery as yq\n",
        "import pandas as pd\n",
        "import matplotlib.pyplot as plt\n",
        "import seaborn as sns\n",
        "from bs4 import BeautifulSoup\n",
        "from pprint import pprint\n",
        "import airtable\n",
        "warnings.filterwarnings(\"ignore\")"
      ]
    },
    {
      "cell_type": "markdown",
      "metadata": {
        "id": "SlJUrQZjA1z9"
      },
      "source": [
        "# Sección Extracción de datos (API y WebScrapin)\n",
        "\n",
        "\n",
        "\n"
      ]
    },
    {
      "cell_type": "code",
      "execution_count": 166,
      "metadata": {
        "id": "lxhQ462raPsG"
      },
      "outputs": [],
      "source": [
        "def seleccion_etf(num:int) -> list:\n",
        "    # Obtención de los símbolos del Top ETFs de EEUU\n",
        "    s = yq.Screener()\n",
        "    dict_query = s.get_screeners(['top_etfs_us'], num)\n",
        "    tickers = [symbol['symbol'] for symbol in dict_query['top_etfs_us']['quotes']]\n",
        "    return tickers\n",
        "\n",
        "def corregir_nombres_columnas(df:pd.DataFrame) -> pd.DataFrame:\n",
        "    # Eliminar caracteres especiales\n",
        "    df.columns = df.columns.str.replace('[^\\w\\s]', '', regex=True)\n",
        "    # Sustituir espacios por _\n",
        "    df.columns = df.columns.str.replace(' ', '_')\n",
        "    # Retornar el DF\n",
        "    return(df)\n",
        "    \n",
        "def down_price_vol(tickers:list) -> pd.DataFrame:\n",
        "    '''\n",
        "    Esta función descarga los cambios porcentuales de las cotizaciones\n",
        "    y del volumen de negociación de la lista de símbolos en un dataframe.\n",
        "\n",
        "    Parámetros:\n",
        "    tickers (list): La lista de símbolos.\n",
        "\n",
        "    Retorna:\n",
        "    DataFrame con los incrementos porcentuales de las cotizaciones\n",
        "\n",
        "    Ejemplo:\n",
        "    >>> df_price_vol = down_price_vol(['MSFT'])\n",
        "    '''\n",
        "    # Descarga de las cotizaciones\n",
        "    df = yf.download(tickers, period='max')\n",
        "    # Obtener los nombres de las columnas para 'Adj Close' y 'Volume'\n",
        "    adj_close_cols = [('Adj Close', ticker) for ticker in tickers]\n",
        "    volume_cols = [('Volume', ticker) for ticker in tickers]\n",
        "\n",
        "    # Seleccionar las columnas de interés\n",
        "    df = df[adj_close_cols + volume_cols]\n",
        "    # Eliminar valores nulos y cambiar los precios por incrementos porcentuales\n",
        "    df = df.dropna().pct_change(1).dropna()\n",
        "    df.replace([np.inf, -np.inf], np.nan, inplace=True)\n",
        "    df.dropna(inplace=True)\n",
        "    # Ordenar y formatear el las columnas\n",
        "    '''\n",
        "    df_stack = df.stack(level=1)\n",
        "    df_reset = df_stack.reset_index()\n",
        "    df_final = df_reset.rename(columns={'level_0': 'Date', 'level_1': 'Ticker'})\n",
        "    df_final = df_final.melt(id_vars=['Date', 'Ticker'], var_name='Attribute', value_name='Value')\n",
        "    df_pivot = df_final.pivot_table(index=['Date', 'Ticker'], columns='Attribute', values='Value').reset_index()\n",
        "    df_pivot.columns.name = None\n",
        "    df = df_pivot.rename(columns={'Adj Close': 'Price', 'Volume': 'Volume'})\n",
        "    '''\n",
        "    df.columns = [f'{j}.{i}' for i, j in df.columns]\n",
        "    columns = [col for etf in tickers for col in [f'{etf}.Adj Close', f'{etf}.Volume']]\n",
        "    df = df[columns]\n",
        "    df.columns = [col.replace('.Adj Close', '.price').replace('.Volume', '.volume') for col in df.columns]\n",
        "    # Retornar DataFrame\n",
        "    return(df)\n",
        "\n",
        "def web_scraping_sectors(tickers:list) -> pd.DataFrame:\n",
        "    '''\n",
        "    Esta función hace web scraping a la página de Yahoo Finance\n",
        "    para obtener la distribución en los sectores en los que está\n",
        "    invertido el ETF\n",
        "\n",
        "    Parámetros:\n",
        "    tickers (list): La lista de símbolos.\n",
        "\n",
        "    Retorna:\n",
        "    DataFrame con los porcentajes de la distribución de sectores\n",
        "\n",
        "    Ejemplo:\n",
        "    >>> df_sectores = web_scraping_sectores()\n",
        "    '''\n",
        "    url_base = \"https://es.finance.yahoo.com/quote/\"\n",
        "    lista_sectores = [\n",
        "        \"Materiales básicos\", \"Acciones cíclicas\", \"Servicios financieros\",\n",
        "        \"Propiedades inmobiliarias\", \"Acciones defensivas\", \"Atención sanitaria\",\n",
        "        \"Utilidades\", \"Servicios de comunicación\", \"Energía\", \"Industriales\",\n",
        "        \"Tecnología\"\n",
        "    ]\n",
        "    dict_sectores = {}\n",
        "    for etf in tickers:\n",
        "        url = f'{url_base}{etf}/holdings?p={etf}'\n",
        "        response = requests.get(\n",
        "            url,\n",
        "            headers = {'User-Agent':'Mozilla/5.0 (Windows NT 10.0; Win64; x64) AppleWebKit/537.36 (KHTML, like Gecko) Chrome/91.0.4472.124 Safari/537.36'}\n",
        "            )\n",
        "        soup = BeautifulSoup(response.text, 'html.parser')\n",
        "        sectores_etf = {}\n",
        "        lista_contenedores = soup.findAll('div', class_='Bdbw(1px) Bdbc($seperatorColor) Bdbs(s) H(25px) Pt(10px)')\n",
        "        for item in lista_contenedores:\n",
        "            sector = item.find('span', class_='Mend(5px) Whs(nw)').text\n",
        "            if sector in lista_sectores:\n",
        "                valor = item.find('span', class_='W(20%) D(b) Fl(start) Ta(e)').text\n",
        "                sectores_etf[sector] = valor\n",
        "        dict_sectores[etf] = sectores_etf\n",
        "    # Convertir diccionario en dataframe\n",
        "    df = pd.DataFrame.from_dict(dict_sectores).T\n",
        "    # Convertir todas las entradas a strings, eliminar el '%' y reemplazar comas por puntos\n",
        "    df = df.map(lambda x: str(x).replace('%', '').replace(',', '.'))\n",
        "    # Convertir las cadenas a números flotantes y dividir por 100 para tener los porcentajes en formato decimal\n",
        "    df = df.map(lambda x: float(x) / 100.0 if x != 'N/A' else 0)\n",
        "    # Quitar los espacios\n",
        "    df.columns = df.columns.str.replace(' ', '_')\n",
        "    # Resetear índice\n",
        "    df = df.reset_index()\n",
        "    df = df.rename(columns={'index':'Ticker'})\n",
        "    # Retornar DataFrame\n",
        "    return (df)\n",
        "\n",
        "def tabla_net_assets(tickers:list) -> pd.DataFrame:\n",
        "    def convertir_valor(valor):\n",
        "        if 'M' in valor:\n",
        "            return float(valor.replace('M', ''))\n",
        "        elif 'B' in valor:\n",
        "            return float(valor.replace('B', '')) * 1000\n",
        "        else:\n",
        "            return float(valor)\n",
        "\n",
        "    #Net assets table\n",
        "\n",
        "    headers = {\n",
        "        \"User-Agent\": \"Mozilla/5.0 (Windows NT 10.0; Win64; x64) AppleWebKit/537.36 (KHTML, like Gecko) Chrome/85.0.4183.121 Safari/537.36\"\n",
        "    }\n",
        "\n",
        "    net_assets = pd.DataFrame()\n",
        "\n",
        "    for ticker in tickers:\n",
        "\n",
        "        url = f\"https://finance.yahoo.com/quote/{ticker}?p={ticker}\"\n",
        "        response = requests.get(url, headers=headers)\n",
        "\n",
        "        try:\n",
        "            tables = pd.read_html(response.text)\n",
        "            for table in tables:\n",
        "                labels_to_remove = [\"Previous Close\", \"Open\", \"Bid\", \"Ask\", \"Day's Range\", \"52 Week Range\", \"Volume\",\"Avg. Volume\"]\n",
        "                table = table[~table.iloc[:, 0].isin(labels_to_remove)]\n",
        "\n",
        "                data_series = pd.Series(dict(zip(table.iloc[:, 0], table.iloc[:, 1])))\n",
        "\n",
        "                net_assets[ticker] = data_series\n",
        "        except ValueError:\n",
        "            print(f\"No hay tablas para {ticker}\")\n",
        "\n",
        "    net_assets = net_assets.T\n",
        "    # Eliminar columnas\n",
        "    net_assets = net_assets.drop(['NAV', 'PE Ratio (TTM)', 'Expense Ratio (net)'], axis=1)\n",
        "    # Corregir nombres de columnas\n",
        "    df = corregir_nombres_columnas(net_assets)\n",
        "    # Convertir todas las entradas a strings, eliminar el '%' y reemplazar comas por puntos\n",
        "    df[['Yield', 'YTD_Daily_Total_Return']] = df[['Yield', 'YTD_Daily_Total_Return']].map(lambda x: str(x).replace('%', ''))\n",
        "    # Convertir las cadenas a números flotantes y dividir por 100 para tener los porcentajes en formato decimal\n",
        "    df[['Yield', 'YTD_Daily_Total_Return']] = df[['Yield', 'YTD_Daily_Total_Return']].map(lambda x: float(x) / 100.0)\n",
        "    # Convertir la columna Beta a float\n",
        "    df['Beta_5Y_Monthly'] = df['Beta_5Y_Monthly'].astype(float)\n",
        "    # Convertir Inception_Date en datetime\n",
        "    df['Inception_Date'] = pd.to_datetime(df['Inception_Date'], format='%Y-%m-%d')\n",
        "    # Reformatear columna Net_Assets\n",
        "    df['Net_Assets_Millions'] = df['Net_Assets'].apply(convertir_valor)\n",
        "    df = df.drop('Net_Assets', axis=1)\n",
        "    # Resetear índice\n",
        "    df = df.reset_index()\n",
        "    df = df.rename(columns={'index':'Ticker'})\n",
        "    # Retornar df\n",
        "    return(df)\n",
        "\n",
        "def portafolio_activos_etfs(tickers:list)->pd.DataFrame:\n",
        "    headers = {\n",
        "        \"User-Agent\": \"Mozilla/5.0 (Windows NT 10.0; Win64; x64) AppleWebKit/537.36 (KHTML, like Gecko) Chrome/85.0.4183.121 Safari/537.36\"\n",
        "    }\n",
        "\n",
        "    all_dataframes = []\n",
        "\n",
        "    for ticker in tickers:\n",
        "\n",
        "        url = f\"https://finance.yahoo.com/quote/{ticker}/holdings?p={ticker}\"\n",
        "        response = requests.get(url, headers=headers)\n",
        "\n",
        "        try:\n",
        "            tables = pd.read_html(response.text)\n",
        "            for table in tables:\n",
        "                table['Ticker'] = ticker  # Add the 'Ticker' column\n",
        "                all_dataframes.append(table)\n",
        "        except ValueError:\n",
        "            print(f\"No tables found for {ticker}\")\n",
        "\n",
        "    # Concatenate all dataframes\n",
        "    merged_df = pd.concat(all_dataframes, ignore_index=True)\n",
        "    # Corregir nombres de columnas\n",
        "    df = corregir_nombres_columnas(merged_df)\n",
        "    # Sustituir espacios por _\n",
        "    df.columns = df.columns.str.replace('_', '')\n",
        "    # Convertir todas las entradas a strings, eliminar el '%' y reemplazar comas por puntos\n",
        "    df['Assets'] = df['Assets'].map(lambda x: str(x).replace('%', ''))\n",
        "    # Convertir las cadenas a números flotantes y dividir por 100 para tener los porcentajes en formato decimal\n",
        "    df['Assets'] = df['Assets'].map(lambda x: float(x) / 100.0)\n",
        "    # Retornar df\n",
        "    return(df)"
      ]
    },
    {
      "cell_type": "code",
      "execution_count": null,
      "metadata": {},
      "outputs": [],
      "source": [
        "# Esta línea se ha de ejecutar una sola vez\n",
        "# en todo el proyecto, si se hace, es posible que\n",
        "# el Top de ETFs cambie y no se correspondan con los\n",
        "# almacenados en Airtable\n",
        "tickers_temp = seleccion_etf()"
      ]
    },
    {
      "cell_type": "code",
      "execution_count": null,
      "metadata": {
        "id": "51_aHFW4rSEw"
      },
      "outputs": [],
      "source": [
        "df_price_vol = down_price_vol(tickers)\n",
        "df_sect_dist = web_scraping_sectors(tickers)\n",
        "df_net_activos = tabla_net_assets(tickers)\n",
        "df_portafolio_activos = portafolio_activos_etfs(tickers)"
      ]
    },
    {
      "cell_type": "markdown",
      "metadata": {
        "id": "hmhqF1XRBXjT"
      },
      "source": [
        "# Carga de datos a Airtable"
      ]
    },
    {
      "cell_type": "code",
      "execution_count": 90,
      "metadata": {
        "colab": {
          "base_uri": "https://localhost:8080/"
        },
        "id": "EZLaNQ1j_1Mj",
        "outputId": "3c033cc9-8d7a-4f67-cb1d-81a0b1b75b30"
      },
      "outputs": [],
      "source": [
        "# Parámetros de airtable y creación del objeto airtable\n",
        "base_id = 'app8fsCvHI7Tau4le'\n",
        "api_key = 'patyBg6zyoW4EXNI7.205cca8c88a716fa4010850bd58995623d060734e24fa937be40f428d3bfb7fe'"
      ]
    },
    {
      "cell_type": "markdown",
      "metadata": {},
      "source": [
        "Precio y volumen"
      ]
    },
    {
      "cell_type": "code",
      "execution_count": 172,
      "metadata": {},
      "outputs": [],
      "source": [
        "tabla_id = 'tbl5GKDEdJoTMXTci'\n",
        "air = airtable.Airtable(base_id=base_id, table_name=tabla_id, api_key=api_key)\n",
        "# Insertar el dataframe df_price_vol\n",
        "for i in range(0, len(df_price_vol), 10):\n",
        "    bloque = df_price_vol.iloc[i:i+10]\n",
        "    registros = bloque.to_dict(orient=\"records\")\n",
        "    air.batch_insert(registros)"
      ]
    },
    {
      "cell_type": "markdown",
      "metadata": {},
      "source": [
        "Sectores"
      ]
    },
    {
      "cell_type": "code",
      "execution_count": 143,
      "metadata": {},
      "outputs": [],
      "source": [
        "tabla_id = 'tblWV2ERYBOrXozth'\n",
        "air = airtable.Airtable(base_id=base_id, table_name=tabla_id, api_key=api_key)\n",
        "# Insertar el dataframe df_sect_dist\n",
        "for i in range(0, len(df_sect_dist), 10):\n",
        "    bloque = df_sect_dist.iloc[i:i+10]\n",
        "    registros = bloque.to_dict(orient=\"records\")\n",
        "    air.batch_insert(registros)"
      ]
    },
    {
      "cell_type": "markdown",
      "metadata": {},
      "source": [
        "Activos netos"
      ]
    },
    {
      "cell_type": "code",
      "execution_count": null,
      "metadata": {},
      "outputs": [],
      "source": [
        "tabla_id = 'tblvbY1n5rzmFyBqZ'\n",
        "air = airtable.Airtable(base_id=base_id, table_name=tabla_id, api_key=api_key)\n",
        "df_net_activos['Inception_Date'] = df_net_activos['Inception_Date'].astype(str)\n",
        "# Insertar el dataframe df_net_activos\n",
        "for i in range(0, len(df_net_activos), 10):\n",
        "    bloque = df_net_activos.iloc[i:i+10]\n",
        "    registros = bloque.to_dict(orient=\"records\")\n",
        "    air.batch_insert(registros)"
      ]
    },
    {
      "cell_type": "markdown",
      "metadata": {},
      "source": [
        "Portafolio activos"
      ]
    },
    {
      "cell_type": "code",
      "execution_count": 84,
      "metadata": {
        "id": "ZAFTw6fEBd_G"
      },
      "outputs": [],
      "source": [
        "tabla_id = 'tblvxs74FGznyUCfL'\n",
        "air = airtable.Airtable(base_id=base_id, table_name=tabla_id, api_key=api_key)\n",
        "# Insertar el dataframe df_portafolio_activos\n",
        "for i in range(0, len(df_portafolio_activos), 10):\n",
        "    bloque = df_portafolio_activos.iloc[i:i+10]\n",
        "    registros = bloque.to_dict(orient=\"records\")\n",
        "    air.batch_insert(registros)"
      ]
    },
    {
      "cell_type": "markdown",
      "metadata": {
        "id": "t5ckS1EcBdJw"
      },
      "source": [
        "# Sección Karlos"
      ]
    },
    {
      "cell_type": "code",
      "execution_count": null,
      "metadata": {
        "id": "shpoLlI7BhP4"
      },
      "outputs": [],
      "source": []
    },
    {
      "cell_type": "markdown",
      "metadata": {
        "id": "SLyPfgjRBiLZ"
      },
      "source": [
        "# Sección Josep"
      ]
    },
    {
      "cell_type": "code",
      "execution_count": null,
      "metadata": {
        "id": "aY6rgjUuBlCX"
      },
      "outputs": [],
      "source": [
        "df\n"
      ]
    },
    {
      "cell_type": "code",
      "execution_count": null,
      "metadata": {
        "id": "cGt0L9JFbZst"
      },
      "outputs": [],
      "source": [
        "df_describe = df.describe()\n",
        "df_describe\n"
      ]
    },
    {
      "cell_type": "code",
      "execution_count": null,
      "metadata": {
        "id": "hhtkGunubehc"
      },
      "outputs": [],
      "source": []
    }
  ],
  "metadata": {
    "colab": {
      "collapsed_sections": [
        "qbZkKpyC9AEK",
        "Fe2VYO2XiTyD",
        "hmhqF1XRBXjT",
        "t5ckS1EcBdJw",
        "SLyPfgjRBiLZ"
      ],
      "include_colab_link": true,
      "provenance": []
    },
    "kernelspec": {
      "display_name": "Python 3",
      "name": "python3"
    },
    "language_info": {
      "codemirror_mode": {
        "name": "ipython",
        "version": 3
      },
      "file_extension": ".py",
      "mimetype": "text/x-python",
      "name": "python",
      "nbconvert_exporter": "python",
      "pygments_lexer": "ipython3",
      "version": "3.11.6"
    }
  },
  "nbformat": 4,
  "nbformat_minor": 0
}

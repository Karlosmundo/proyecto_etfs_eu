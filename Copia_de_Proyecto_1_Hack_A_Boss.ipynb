{
  "cells": [
    {
      "cell_type": "markdown",
      "metadata": {
        "id": "view-in-github",
        "colab_type": "text"
      },
      "source": [
        "<a href=\"https://colab.research.google.com/github/paulandrepamm/proyecto_etfs_eu/blob/main/Copia_de_Proyecto_1_Hack_A_Boss.ipynb\" target=\"_parent\"><img src=\"https://colab.research.google.com/assets/colab-badge.svg\" alt=\"Open In Colab\"/></a>"
      ]
    },
    {
      "cell_type": "markdown",
      "metadata": {
        "id": "KVxsvBcI8dUQ"
      },
      "source": [
        "---\n",
        "\n",
        "# Proyecto 1: Hack a Boss\n",
        "## Análisis del Top 10 ETFs\n",
        "\n",
        "Proyecto de análisis del Top 10 de ETFs.\n",
        "\n",
        "### Documentación del Proyecto\n",
        "\n",
        "1. [Presentación Paula](https://docs.google.com/presentation/d/1Wk4tVhK89EP7b4iiIhvcTk4n5uHJkxgnuADb6Dk_Nto/edit?usp=sharing)\n",
        "\n",
        "### Páginas datos fundamentales\n",
        "1. [MorningStar](https://www.morningstar.es/es/)\n",
        "2. [Dataroma](https://www.dataroma.com/m/home.php)\n",
        "\n",
        "---\n",
        "\n",
        "\n",
        "\n"
      ]
    },
    {
      "cell_type": "markdown",
      "metadata": {
        "id": "qbZkKpyC9AEK"
      },
      "source": [
        "# Google Drive\n",
        "## Esta celda monta **Google Drive** para que podamos guardar los archivos csv y cualquier otro archivo que se vaya generando.\n",
        "### IMPORTANTE (Se crea y se monta la carpeta *Bootcamp_Proyecto1* en **vuestro** Google Drive)"
      ]
    },
    {
      "cell_type": "code",
      "execution_count": null,
      "metadata": {
        "id": "e4Cc5nug5Qck"
      },
      "outputs": [],
      "source": [
        "import os\n",
        "from google.colab import drive\n",
        "\n",
        "# Se monta la carpeta principal de tu Google Drive\n",
        "drive.mount('/content/drive', force_remount=True)\n",
        "# Se define la carpeta de trabajo\n",
        "carpeta_trabajo = '/content/drive/My Drive/Bootcamp_Proyecto1/archivos'\n",
        "# Se comprueba si existe, si no, se crea\n",
        "if not os.path.exists(carpeta_trabajo):\n",
        "    os.makedirs(carpeta_trabajo, exist_ok=True)\n",
        "# Se establece la carpeta como directorio de trabajo\n",
        "os.chdir(carpeta_trabajo)\n",
        "# Comprobación\n",
        "print(f\"El sistema se encuentra en {os.getcwd()}\")"
      ]
    },
    {
      "cell_type": "markdown",
      "metadata": {
        "id": "Fe2VYO2XiTyD"
      },
      "source": [
        "# Importación de **librerías**\n",
        "### Incluid aquí las librerías a instalar e importar"
      ]
    },
    {
      "cell_type": "code",
      "execution_count": 26,
      "metadata": {
        "id": "rNWwNi4bjsyU",
        "colab": {
          "base_uri": "https://localhost:8080/"
        },
        "outputId": "f7e885fd-6f68-41a0-ca11-3a93460c8bd2"
      },
      "outputs": [
        {
          "output_type": "stream",
          "name": "stdout",
          "text": [
            "Requirement already satisfied: yfinance in /usr/local/lib/python3.10/dist-packages (0.2.31)\n",
            "Requirement already satisfied: pandas>=1.3.0 in /usr/local/lib/python3.10/dist-packages (from yfinance) (2.1.2)\n",
            "Requirement already satisfied: numpy>=1.16.5 in /usr/local/lib/python3.10/dist-packages (from yfinance) (1.23.5)\n",
            "Requirement already satisfied: requests>=2.31 in /usr/local/lib/python3.10/dist-packages (from yfinance) (2.31.0)\n",
            "Requirement already satisfied: multitasking>=0.0.7 in /usr/local/lib/python3.10/dist-packages (from yfinance) (0.0.11)\n",
            "Requirement already satisfied: lxml>=4.9.1 in /usr/local/lib/python3.10/dist-packages (from yfinance) (4.9.3)\n",
            "Requirement already satisfied: appdirs>=1.4.4 in /usr/local/lib/python3.10/dist-packages (from yfinance) (1.4.4)\n",
            "Requirement already satisfied: pytz>=2022.5 in /usr/local/lib/python3.10/dist-packages (from yfinance) (2023.3.post1)\n",
            "Requirement already satisfied: frozendict>=2.3.4 in /usr/local/lib/python3.10/dist-packages (from yfinance) (2.3.8)\n",
            "Requirement already satisfied: peewee>=3.16.2 in /usr/local/lib/python3.10/dist-packages (from yfinance) (3.17.0)\n",
            "Requirement already satisfied: beautifulsoup4>=4.11.1 in /usr/local/lib/python3.10/dist-packages (from yfinance) (4.11.2)\n",
            "Requirement already satisfied: html5lib>=1.1 in /usr/local/lib/python3.10/dist-packages (from yfinance) (1.1)\n",
            "Requirement already satisfied: soupsieve>1.2 in /usr/local/lib/python3.10/dist-packages (from beautifulsoup4>=4.11.1->yfinance) (2.5)\n",
            "Requirement already satisfied: six>=1.9 in /usr/local/lib/python3.10/dist-packages (from html5lib>=1.1->yfinance) (1.16.0)\n",
            "Requirement already satisfied: webencodings in /usr/local/lib/python3.10/dist-packages (from html5lib>=1.1->yfinance) (0.5.1)\n",
            "Requirement already satisfied: python-dateutil>=2.8.2 in /usr/local/lib/python3.10/dist-packages (from pandas>=1.3.0->yfinance) (2.8.2)\n",
            "Requirement already satisfied: tzdata>=2022.1 in /usr/local/lib/python3.10/dist-packages (from pandas>=1.3.0->yfinance) (2023.3)\n",
            "Requirement already satisfied: charset-normalizer<4,>=2 in /usr/local/lib/python3.10/dist-packages (from requests>=2.31->yfinance) (3.3.1)\n",
            "Requirement already satisfied: idna<4,>=2.5 in /usr/local/lib/python3.10/dist-packages (from requests>=2.31->yfinance) (3.4)\n",
            "Requirement already satisfied: urllib3<3,>=1.21.1 in /usr/local/lib/python3.10/dist-packages (from requests>=2.31->yfinance) (2.0.7)\n",
            "Requirement already satisfied: certifi>=2017.4.17 in /usr/local/lib/python3.10/dist-packages (from requests>=2.31->yfinance) (2023.7.22)\n",
            "Requirement already satisfied: yahooquery in /usr/local/lib/python3.10/dist-packages (2.3.3)\n",
            "Requirement already satisfied: lxml<5.0.0,>=4.9.3 in /usr/local/lib/python3.10/dist-packages (from yahooquery) (4.9.3)\n",
            "Requirement already satisfied: pandas<3.0.0,>=2.0.3 in /usr/local/lib/python3.10/dist-packages (from yahooquery) (2.1.2)\n",
            "Requirement already satisfied: requests<3.0.0,>=2.31.0 in /usr/local/lib/python3.10/dist-packages (from yahooquery) (2.31.0)\n",
            "Requirement already satisfied: requests-futures<2.0.0,>=1.0.1 in /usr/local/lib/python3.10/dist-packages (from yahooquery) (1.0.1)\n",
            "Requirement already satisfied: tqdm<5.0.0,>=4.65.0 in /usr/local/lib/python3.10/dist-packages (from yahooquery) (4.66.1)\n",
            "Requirement already satisfied: numpy<2,>=1.22.4 in /usr/local/lib/python3.10/dist-packages (from pandas<3.0.0,>=2.0.3->yahooquery) (1.23.5)\n",
            "Requirement already satisfied: python-dateutil>=2.8.2 in /usr/local/lib/python3.10/dist-packages (from pandas<3.0.0,>=2.0.3->yahooquery) (2.8.2)\n",
            "Requirement already satisfied: pytz>=2020.1 in /usr/local/lib/python3.10/dist-packages (from pandas<3.0.0,>=2.0.3->yahooquery) (2023.3.post1)\n",
            "Requirement already satisfied: tzdata>=2022.1 in /usr/local/lib/python3.10/dist-packages (from pandas<3.0.0,>=2.0.3->yahooquery) (2023.3)\n",
            "Requirement already satisfied: charset-normalizer<4,>=2 in /usr/local/lib/python3.10/dist-packages (from requests<3.0.0,>=2.31.0->yahooquery) (3.3.1)\n",
            "Requirement already satisfied: idna<4,>=2.5 in /usr/local/lib/python3.10/dist-packages (from requests<3.0.0,>=2.31.0->yahooquery) (3.4)\n",
            "Requirement already satisfied: urllib3<3,>=1.21.1 in /usr/local/lib/python3.10/dist-packages (from requests<3.0.0,>=2.31.0->yahooquery) (2.0.7)\n",
            "Requirement already satisfied: certifi>=2017.4.17 in /usr/local/lib/python3.10/dist-packages (from requests<3.0.0,>=2.31.0->yahooquery) (2023.7.22)\n",
            "Requirement already satisfied: six>=1.5 in /usr/local/lib/python3.10/dist-packages (from python-dateutil>=2.8.2->pandas<3.0.0,>=2.0.3->yahooquery) (1.16.0)\n"
          ]
        }
      ],
      "source": [
        "# Instalar las librerías\n",
        "!pip install yfinance\n",
        "!pip install yahooquery\n"
      ]
    },
    {
      "cell_type": "code",
      "execution_count": 3,
      "metadata": {
        "id": "MlkMIe84ilo-"
      },
      "outputs": [],
      "source": [
        "# Importar las librerías\n",
        "import time\n",
        "import requests\n",
        "import numpy as np\n",
        "import yfinance as yf\n",
        "import yahooquery as yq\n",
        "import pandas as pd\n",
        "import matplotlib.pyplot as plt\n",
        "import seaborn as sns\n",
        "from bs4 import BeautifulSoup\n",
        "from pprint import pprint"
      ]
    },
    {
      "cell_type": "markdown",
      "metadata": {
        "id": "SlJUrQZjA1z9"
      },
      "source": [
        "# Sección Antonio Jesús\n",
        "\n",
        "\n",
        "1. Extracción de datos vía API\n",
        "2. Datos sobre el riesgo y rentabilidad\n",
        "3. Portafolio de inversión de los ETFs\n",
        "4. Distribución de porcentajes de sectores\n",
        "\n",
        "\n",
        "\n"
      ]
    },
    {
      "cell_type": "code",
      "execution_count": 9,
      "metadata": {
        "id": "-xYaZOrOrPgT"
      },
      "outputs": [],
      "source": [
        "# Obtención de los símbolos del Top ETFs de EEUU\n",
        "s = yq.Screener()\n",
        "dict_query = s.get_screeners(['top_etfs_us'])\n",
        "tickers = [symbol['symbol'] for symbol in dict_query['top_etfs_us']['quotes']]"
      ]
    },
    {
      "cell_type": "code",
      "execution_count": null,
      "metadata": {
        "id": "lxhQ462raPsG"
      },
      "outputs": [],
      "source": [
        "def down_price_vol(tickers:list) -> pd.DataFrame:\n",
        "    '''\n",
        "    Esta función descarga los cambios porcentuales de las cotizaciones\n",
        "    y del volumen de negociación de la lista de símbolos en un dataframe.\n",
        "\n",
        "    Parámetros:\n",
        "    tickers (list): La lista de símbolos.\n",
        "\n",
        "    Retorna:\n",
        "    DataFrame con los incrementos porcentuales de las cotizaciones\n",
        "\n",
        "    Ejemplo:\n",
        "    >>> df_price_vol = down_price_vol(['MSFT'])\n",
        "    '''\n",
        "    # Descarga de las cotizaciones\n",
        "    df = yf.download(tickers, period='max')\n",
        "    # Obtener los nombres de las columnas para 'Adj Close' y 'Volume'\n",
        "    adj_close_cols = [('Adj Close', ticker) for ticker in tickers]\n",
        "    volume_cols = [('Volume', ticker) for ticker in tickers]\n",
        "\n",
        "    # Seleccionar las columnas de interés\n",
        "    df = df[adj_close_cols + volume_cols]\n",
        "    # Eliminar valores nulos y cambiar los precios por incrementos porcentuales\n",
        "    df = df.dropna().pct_change(1).dropna()\n",
        "    # Ordenar y formatear el las columnas\n",
        "    df.columns = [f'{j}.{i}' for i, j in df.columns]\n",
        "    columns = [col for etf in tickers for col in [f'{etf}.Adj Close', f'{etf}.Volume']]\n",
        "    df = df[columns]\n",
        "    df.columns = [col.replace('.Adj Close', '.price').replace('.Volume', '.volume') for col in df.columns]\n",
        "    return df\n",
        "\n",
        "def web_scraping_sectors(tickers:list) -> pd.DataFrame:\n",
        "    '''\n",
        "    Esta función hace web scraping a la página de Yahoo Finance\n",
        "    para obtener la distribución en los sectores en los que está\n",
        "    invertido el ETF\n",
        "\n",
        "    Parámetros:\n",
        "    tickers (list): La lista de símbolos.\n",
        "\n",
        "    Retorna:\n",
        "    DataFrame con los porcentajes de la distribución de sectores\n",
        "\n",
        "    Ejemplo:\n",
        "    >>> df_sectores = web_scraping_sectores()\n",
        "    '''\n",
        "    url_base = \"https://es.finance.yahoo.com/quote/\"\n",
        "    lista_sectores = [\n",
        "        \"Materiales básicos\", \"Acciones cíclicas\", \"Servicios financieros\",\n",
        "        \"Propiedades inmobiliarias\", \"Acciones defensivas\", \"Atención sanitaria\",\n",
        "        \"Utilidades\", \"Servicios de comunicación\", \"Energía\", \"Industriales\",\n",
        "        \"Tecnología\"\n",
        "    ]\n",
        "    dict_sectores = {}\n",
        "    for etf in tickers:\n",
        "        url = f'{url_base}{etf}/holdings?p={etf}'\n",
        "        response = requests.get(\n",
        "            url,\n",
        "            headers = {'User-Agent':'Mozilla/5.0 (Windows NT 10.0; Win64; x64) AppleWebKit/537.36 (KHTML, like Gecko) Chrome/91.0.4472.124 Safari/537.36'}\n",
        "            )\n",
        "        soup = BeautifulSoup(response.text, 'html.parser')\n",
        "        sectores_etf = {}\n",
        "        lista_contenedores = soup.findAll('div', class_='Bdbw(1px) Bdbc($seperatorColor) Bdbs(s) H(25px) Pt(10px)')\n",
        "        for item in lista_contenedores:\n",
        "            sector = item.find('span', class_='Mend(5px) Whs(nw)').text\n",
        "            if sector in lista_sectores:\n",
        "                valor = item.find('span', class_='W(20%) D(b) Fl(start) Ta(e)').text\n",
        "                sectores_etf[sector] = valor\n",
        "        dict_sectores[etf] = sectores_etf\n",
        "        time.sleep(0.5)\n",
        "    # Retornar DataFrame\n",
        "    return pd.DataFrame.from_dict(dict_sectores)"
      ]
    },
    {
      "cell_type": "code",
      "execution_count": null,
      "metadata": {
        "id": "51_aHFW4rSEw"
      },
      "outputs": [],
      "source": [
        "df_price_vol = down_price_vol(tickers)\n",
        "df_sect_dist = web_scraping_sectors(tickers)"
      ]
    },
    {
      "cell_type": "markdown",
      "metadata": {
        "id": "hmhqF1XRBXjT"
      },
      "source": [
        "# Sección Paula"
      ]
    },
    {
      "cell_type": "code",
      "execution_count": 14,
      "metadata": {
        "colab": {
          "base_uri": "https://localhost:8080/",
          "height": 1000
        },
        "id": "jilFrbsxBcIY",
        "outputId": "2d7a5a92-5f83-4162-a290-2f86e949b9c6"
      },
      "outputs": [
        {
          "output_type": "stream",
          "name": "stderr",
          "text": [
            "<ipython-input-14-2fc6172ed9ed>:15: FutureWarning: Passing literal html to 'read_html' is deprecated and will be removed in a future version. To read from a literal string, wrap it in a 'StringIO' object.\n",
            "  tables = pd.read_html(response.text)\n",
            "<ipython-input-14-2fc6172ed9ed>:15: FutureWarning: Passing literal html to 'read_html' is deprecated and will be removed in a future version. To read from a literal string, wrap it in a 'StringIO' object.\n",
            "  tables = pd.read_html(response.text)\n",
            "<ipython-input-14-2fc6172ed9ed>:15: FutureWarning: Passing literal html to 'read_html' is deprecated and will be removed in a future version. To read from a literal string, wrap it in a 'StringIO' object.\n",
            "  tables = pd.read_html(response.text)\n",
            "<ipython-input-14-2fc6172ed9ed>:15: FutureWarning: Passing literal html to 'read_html' is deprecated and will be removed in a future version. To read from a literal string, wrap it in a 'StringIO' object.\n",
            "  tables = pd.read_html(response.text)\n",
            "<ipython-input-14-2fc6172ed9ed>:15: FutureWarning: Passing literal html to 'read_html' is deprecated and will be removed in a future version. To read from a literal string, wrap it in a 'StringIO' object.\n",
            "  tables = pd.read_html(response.text)\n",
            "<ipython-input-14-2fc6172ed9ed>:15: FutureWarning: Passing literal html to 'read_html' is deprecated and will be removed in a future version. To read from a literal string, wrap it in a 'StringIO' object.\n",
            "  tables = pd.read_html(response.text)\n",
            "<ipython-input-14-2fc6172ed9ed>:15: FutureWarning: Passing literal html to 'read_html' is deprecated and will be removed in a future version. To read from a literal string, wrap it in a 'StringIO' object.\n",
            "  tables = pd.read_html(response.text)\n",
            "<ipython-input-14-2fc6172ed9ed>:15: FutureWarning: Passing literal html to 'read_html' is deprecated and will be removed in a future version. To read from a literal string, wrap it in a 'StringIO' object.\n",
            "  tables = pd.read_html(response.text)\n",
            "<ipython-input-14-2fc6172ed9ed>:15: FutureWarning: Passing literal html to 'read_html' is deprecated and will be removed in a future version. To read from a literal string, wrap it in a 'StringIO' object.\n",
            "  tables = pd.read_html(response.text)\n",
            "<ipython-input-14-2fc6172ed9ed>:15: FutureWarning: Passing literal html to 'read_html' is deprecated and will be removed in a future version. To read from a literal string, wrap it in a 'StringIO' object.\n",
            "  tables = pd.read_html(response.text)\n",
            "<ipython-input-14-2fc6172ed9ed>:15: FutureWarning: Passing literal html to 'read_html' is deprecated and will be removed in a future version. To read from a literal string, wrap it in a 'StringIO' object.\n",
            "  tables = pd.read_html(response.text)\n",
            "<ipython-input-14-2fc6172ed9ed>:15: FutureWarning: Passing literal html to 'read_html' is deprecated and will be removed in a future version. To read from a literal string, wrap it in a 'StringIO' object.\n",
            "  tables = pd.read_html(response.text)\n",
            "<ipython-input-14-2fc6172ed9ed>:15: FutureWarning: Passing literal html to 'read_html' is deprecated and will be removed in a future version. To read from a literal string, wrap it in a 'StringIO' object.\n",
            "  tables = pd.read_html(response.text)\n",
            "<ipython-input-14-2fc6172ed9ed>:15: FutureWarning: Passing literal html to 'read_html' is deprecated and will be removed in a future version. To read from a literal string, wrap it in a 'StringIO' object.\n",
            "  tables = pd.read_html(response.text)\n",
            "<ipython-input-14-2fc6172ed9ed>:15: FutureWarning: Passing literal html to 'read_html' is deprecated and will be removed in a future version. To read from a literal string, wrap it in a 'StringIO' object.\n",
            "  tables = pd.read_html(response.text)\n",
            "<ipython-input-14-2fc6172ed9ed>:15: FutureWarning: Passing literal html to 'read_html' is deprecated and will be removed in a future version. To read from a literal string, wrap it in a 'StringIO' object.\n",
            "  tables = pd.read_html(response.text)\n",
            "<ipython-input-14-2fc6172ed9ed>:15: FutureWarning: Passing literal html to 'read_html' is deprecated and will be removed in a future version. To read from a literal string, wrap it in a 'StringIO' object.\n",
            "  tables = pd.read_html(response.text)\n",
            "<ipython-input-14-2fc6172ed9ed>:15: FutureWarning: Passing literal html to 'read_html' is deprecated and will be removed in a future version. To read from a literal string, wrap it in a 'StringIO' object.\n",
            "  tables = pd.read_html(response.text)\n",
            "<ipython-input-14-2fc6172ed9ed>:15: FutureWarning: Passing literal html to 'read_html' is deprecated and will be removed in a future version. To read from a literal string, wrap it in a 'StringIO' object.\n",
            "  tables = pd.read_html(response.text)\n",
            "<ipython-input-14-2fc6172ed9ed>:15: FutureWarning: Passing literal html to 'read_html' is deprecated and will be removed in a future version. To read from a literal string, wrap it in a 'StringIO' object.\n",
            "  tables = pd.read_html(response.text)\n",
            "<ipython-input-14-2fc6172ed9ed>:15: FutureWarning: Passing literal html to 'read_html' is deprecated and will be removed in a future version. To read from a literal string, wrap it in a 'StringIO' object.\n",
            "  tables = pd.read_html(response.text)\n",
            "<ipython-input-14-2fc6172ed9ed>:15: FutureWarning: Passing literal html to 'read_html' is deprecated and will be removed in a future version. To read from a literal string, wrap it in a 'StringIO' object.\n",
            "  tables = pd.read_html(response.text)\n",
            "<ipython-input-14-2fc6172ed9ed>:15: FutureWarning: Passing literal html to 'read_html' is deprecated and will be removed in a future version. To read from a literal string, wrap it in a 'StringIO' object.\n",
            "  tables = pd.read_html(response.text)\n",
            "<ipython-input-14-2fc6172ed9ed>:15: FutureWarning: Passing literal html to 'read_html' is deprecated and will be removed in a future version. To read from a literal string, wrap it in a 'StringIO' object.\n",
            "  tables = pd.read_html(response.text)\n",
            "<ipython-input-14-2fc6172ed9ed>:15: FutureWarning: Passing literal html to 'read_html' is deprecated and will be removed in a future version. To read from a literal string, wrap it in a 'StringIO' object.\n",
            "  tables = pd.read_html(response.text)\n"
          ]
        },
        {
          "output_type": "display_data",
          "data": {
            "text/plain": [
              "     Net Assets     NAV PE Ratio (TTM)   Yield YTD Daily Total Return  \\\n",
              "DXJS     51.73M   28.39           6.06   2.60%                 33.69%   \n",
              "FLJH    249.66M   30.81          14.03   0.86%                 31.21%   \n",
              "HEWJ    215.64M   34.13          14.06   0.59%                 31.28%   \n",
              "DXJ       3.12B   85.57           9.73   2.81%                 39.04%   \n",
              "DBJP    289.07M   58.70          15.16   5.15%                 27.20%   \n",
              "PTH     132.12M   30.26           6.80   0.00%                -26.18%   \n",
              "XTL      56.78M   66.09          21.44   0.81%                -18.47%   \n",
              "XLRE      4.09B   33.11          25.36   3.89%                 -8.13%   \n",
              "ICF       1.99B   48.83          27.00   3.10%                 -9.10%   \n",
              "HSCZ     98.33M   26.89          11.49   1.39%                  5.92%   \n",
              "XSD       1.38B  169.71          19.25   0.36%                  1.79%   \n",
              "IHI       5.07B   45.28          28.87   0.54%                -13.58%   \n",
              "PSCT    307.51M   39.52           6.24   0.00%                 -1.22%   \n",
              "XAR       1.45B  115.08          25.51   0.44%                  4.95%   \n",
              "PPA       1.92B   81.40          26.31   0.54%                  4.34%   \n",
              "CIBR      4.96B   44.53          28.39   0.35%                 15.37%   \n",
              "CNRG     259.8M   60.06          11.62   1.21%                -26.35%   \n",
              "PSR      90.12M   76.66          26.26   3.31%                 -9.84%   \n",
              "PTF     307.19M   41.10           8.60   0.08%                  8.92%   \n",
              "ITB       2.04B   73.54           8.17   0.65%                 21.95%   \n",
              "PXE     176.75M   32.26           5.16   2.81%                 11.43%   \n",
              "PFFA    627.26M   17.92            NaN  10.25%                  8.11%   \n",
              "EWJV    253.85M   27.52          10.60   2.30%                 15.53%   \n",
              "PHO       1.77B   50.81          27.44   0.71%                 -0.95%   \n",
              "GSJY     13.44M   32.06          11.16   1.93%                  9.75%   \n",
              "\n",
              "     Beta (5Y Monthly) Expense Ratio (net) Inception Date  \n",
              "DXJS              0.26               0.58%     2013-06-28  \n",
              "FLJH              0.50               0.09%     2017-11-02  \n",
              "HEWJ              0.54               0.50%     2014-01-31  \n",
              "DXJ               0.50               0.48%     2006-06-16  \n",
              "DBJP              0.53               0.47%     2011-06-09  \n",
              "PTH               0.74               0.60%     2006-10-12  \n",
              "XTL               1.06               0.35%     2011-01-26  \n",
              "XLRE              1.05               0.10%     2015-10-07  \n",
              "ICF               1.04               0.33%     2001-01-29  \n",
              "HSCZ              0.72               0.42%     2015-06-29  \n",
              "XSD               1.56               0.35%     2006-01-31  \n",
              "IHI               0.89               0.40%     2006-05-01  \n",
              "PSCT              1.26               0.29%     2010-04-07  \n",
              "XAR               1.19               0.35%     2011-09-28  \n",
              "PPA               0.96               0.58%     2005-10-26  \n",
              "CIBR              0.94               0.60%     2015-07-07  \n",
              "CNRG              1.38               0.45%     2018-10-19  \n",
              "PSR               1.06               0.35%     2008-11-20  \n",
              "PTF               1.39               0.60%     2006-10-12  \n",
              "ITB               1.26               0.40%     2006-05-01  \n",
              "PXE               1.18               0.60%     2005-10-26  \n",
              "PFFA              1.70               1.40%     2018-05-15  \n",
              "EWJV              0.73               0.15%     2019-03-05  \n",
              "PHO               1.04               0.60%     2005-12-06  \n",
              "GSJY              0.80               0.25%     2016-03-02  "
            ],
            "text/html": [
              "\n",
              "  <div id=\"df-1411c90e-fa81-4c19-b91f-7212fe14d312\" class=\"colab-df-container\">\n",
              "    <div>\n",
              "<style scoped>\n",
              "    .dataframe tbody tr th:only-of-type {\n",
              "        vertical-align: middle;\n",
              "    }\n",
              "\n",
              "    .dataframe tbody tr th {\n",
              "        vertical-align: top;\n",
              "    }\n",
              "\n",
              "    .dataframe thead th {\n",
              "        text-align: right;\n",
              "    }\n",
              "</style>\n",
              "<table border=\"1\" class=\"dataframe\">\n",
              "  <thead>\n",
              "    <tr style=\"text-align: right;\">\n",
              "      <th></th>\n",
              "      <th>Net Assets</th>\n",
              "      <th>NAV</th>\n",
              "      <th>PE Ratio (TTM)</th>\n",
              "      <th>Yield</th>\n",
              "      <th>YTD Daily Total Return</th>\n",
              "      <th>Beta (5Y Monthly)</th>\n",
              "      <th>Expense Ratio (net)</th>\n",
              "      <th>Inception Date</th>\n",
              "    </tr>\n",
              "  </thead>\n",
              "  <tbody>\n",
              "    <tr>\n",
              "      <th>DXJS</th>\n",
              "      <td>51.73M</td>\n",
              "      <td>28.39</td>\n",
              "      <td>6.06</td>\n",
              "      <td>2.60%</td>\n",
              "      <td>33.69%</td>\n",
              "      <td>0.26</td>\n",
              "      <td>0.58%</td>\n",
              "      <td>2013-06-28</td>\n",
              "    </tr>\n",
              "    <tr>\n",
              "      <th>FLJH</th>\n",
              "      <td>249.66M</td>\n",
              "      <td>30.81</td>\n",
              "      <td>14.03</td>\n",
              "      <td>0.86%</td>\n",
              "      <td>31.21%</td>\n",
              "      <td>0.50</td>\n",
              "      <td>0.09%</td>\n",
              "      <td>2017-11-02</td>\n",
              "    </tr>\n",
              "    <tr>\n",
              "      <th>HEWJ</th>\n",
              "      <td>215.64M</td>\n",
              "      <td>34.13</td>\n",
              "      <td>14.06</td>\n",
              "      <td>0.59%</td>\n",
              "      <td>31.28%</td>\n",
              "      <td>0.54</td>\n",
              "      <td>0.50%</td>\n",
              "      <td>2014-01-31</td>\n",
              "    </tr>\n",
              "    <tr>\n",
              "      <th>DXJ</th>\n",
              "      <td>3.12B</td>\n",
              "      <td>85.57</td>\n",
              "      <td>9.73</td>\n",
              "      <td>2.81%</td>\n",
              "      <td>39.04%</td>\n",
              "      <td>0.50</td>\n",
              "      <td>0.48%</td>\n",
              "      <td>2006-06-16</td>\n",
              "    </tr>\n",
              "    <tr>\n",
              "      <th>DBJP</th>\n",
              "      <td>289.07M</td>\n",
              "      <td>58.70</td>\n",
              "      <td>15.16</td>\n",
              "      <td>5.15%</td>\n",
              "      <td>27.20%</td>\n",
              "      <td>0.53</td>\n",
              "      <td>0.47%</td>\n",
              "      <td>2011-06-09</td>\n",
              "    </tr>\n",
              "    <tr>\n",
              "      <th>PTH</th>\n",
              "      <td>132.12M</td>\n",
              "      <td>30.26</td>\n",
              "      <td>6.80</td>\n",
              "      <td>0.00%</td>\n",
              "      <td>-26.18%</td>\n",
              "      <td>0.74</td>\n",
              "      <td>0.60%</td>\n",
              "      <td>2006-10-12</td>\n",
              "    </tr>\n",
              "    <tr>\n",
              "      <th>XTL</th>\n",
              "      <td>56.78M</td>\n",
              "      <td>66.09</td>\n",
              "      <td>21.44</td>\n",
              "      <td>0.81%</td>\n",
              "      <td>-18.47%</td>\n",
              "      <td>1.06</td>\n",
              "      <td>0.35%</td>\n",
              "      <td>2011-01-26</td>\n",
              "    </tr>\n",
              "    <tr>\n",
              "      <th>XLRE</th>\n",
              "      <td>4.09B</td>\n",
              "      <td>33.11</td>\n",
              "      <td>25.36</td>\n",
              "      <td>3.89%</td>\n",
              "      <td>-8.13%</td>\n",
              "      <td>1.05</td>\n",
              "      <td>0.10%</td>\n",
              "      <td>2015-10-07</td>\n",
              "    </tr>\n",
              "    <tr>\n",
              "      <th>ICF</th>\n",
              "      <td>1.99B</td>\n",
              "      <td>48.83</td>\n",
              "      <td>27.00</td>\n",
              "      <td>3.10%</td>\n",
              "      <td>-9.10%</td>\n",
              "      <td>1.04</td>\n",
              "      <td>0.33%</td>\n",
              "      <td>2001-01-29</td>\n",
              "    </tr>\n",
              "    <tr>\n",
              "      <th>HSCZ</th>\n",
              "      <td>98.33M</td>\n",
              "      <td>26.89</td>\n",
              "      <td>11.49</td>\n",
              "      <td>1.39%</td>\n",
              "      <td>5.92%</td>\n",
              "      <td>0.72</td>\n",
              "      <td>0.42%</td>\n",
              "      <td>2015-06-29</td>\n",
              "    </tr>\n",
              "    <tr>\n",
              "      <th>XSD</th>\n",
              "      <td>1.38B</td>\n",
              "      <td>169.71</td>\n",
              "      <td>19.25</td>\n",
              "      <td>0.36%</td>\n",
              "      <td>1.79%</td>\n",
              "      <td>1.56</td>\n",
              "      <td>0.35%</td>\n",
              "      <td>2006-01-31</td>\n",
              "    </tr>\n",
              "    <tr>\n",
              "      <th>IHI</th>\n",
              "      <td>5.07B</td>\n",
              "      <td>45.28</td>\n",
              "      <td>28.87</td>\n",
              "      <td>0.54%</td>\n",
              "      <td>-13.58%</td>\n",
              "      <td>0.89</td>\n",
              "      <td>0.40%</td>\n",
              "      <td>2006-05-01</td>\n",
              "    </tr>\n",
              "    <tr>\n",
              "      <th>PSCT</th>\n",
              "      <td>307.51M</td>\n",
              "      <td>39.52</td>\n",
              "      <td>6.24</td>\n",
              "      <td>0.00%</td>\n",
              "      <td>-1.22%</td>\n",
              "      <td>1.26</td>\n",
              "      <td>0.29%</td>\n",
              "      <td>2010-04-07</td>\n",
              "    </tr>\n",
              "    <tr>\n",
              "      <th>XAR</th>\n",
              "      <td>1.45B</td>\n",
              "      <td>115.08</td>\n",
              "      <td>25.51</td>\n",
              "      <td>0.44%</td>\n",
              "      <td>4.95%</td>\n",
              "      <td>1.19</td>\n",
              "      <td>0.35%</td>\n",
              "      <td>2011-09-28</td>\n",
              "    </tr>\n",
              "    <tr>\n",
              "      <th>PPA</th>\n",
              "      <td>1.92B</td>\n",
              "      <td>81.40</td>\n",
              "      <td>26.31</td>\n",
              "      <td>0.54%</td>\n",
              "      <td>4.34%</td>\n",
              "      <td>0.96</td>\n",
              "      <td>0.58%</td>\n",
              "      <td>2005-10-26</td>\n",
              "    </tr>\n",
              "    <tr>\n",
              "      <th>CIBR</th>\n",
              "      <td>4.96B</td>\n",
              "      <td>44.53</td>\n",
              "      <td>28.39</td>\n",
              "      <td>0.35%</td>\n",
              "      <td>15.37%</td>\n",
              "      <td>0.94</td>\n",
              "      <td>0.60%</td>\n",
              "      <td>2015-07-07</td>\n",
              "    </tr>\n",
              "    <tr>\n",
              "      <th>CNRG</th>\n",
              "      <td>259.8M</td>\n",
              "      <td>60.06</td>\n",
              "      <td>11.62</td>\n",
              "      <td>1.21%</td>\n",
              "      <td>-26.35%</td>\n",
              "      <td>1.38</td>\n",
              "      <td>0.45%</td>\n",
              "      <td>2018-10-19</td>\n",
              "    </tr>\n",
              "    <tr>\n",
              "      <th>PSR</th>\n",
              "      <td>90.12M</td>\n",
              "      <td>76.66</td>\n",
              "      <td>26.26</td>\n",
              "      <td>3.31%</td>\n",
              "      <td>-9.84%</td>\n",
              "      <td>1.06</td>\n",
              "      <td>0.35%</td>\n",
              "      <td>2008-11-20</td>\n",
              "    </tr>\n",
              "    <tr>\n",
              "      <th>PTF</th>\n",
              "      <td>307.19M</td>\n",
              "      <td>41.10</td>\n",
              "      <td>8.60</td>\n",
              "      <td>0.08%</td>\n",
              "      <td>8.92%</td>\n",
              "      <td>1.39</td>\n",
              "      <td>0.60%</td>\n",
              "      <td>2006-10-12</td>\n",
              "    </tr>\n",
              "    <tr>\n",
              "      <th>ITB</th>\n",
              "      <td>2.04B</td>\n",
              "      <td>73.54</td>\n",
              "      <td>8.17</td>\n",
              "      <td>0.65%</td>\n",
              "      <td>21.95%</td>\n",
              "      <td>1.26</td>\n",
              "      <td>0.40%</td>\n",
              "      <td>2006-05-01</td>\n",
              "    </tr>\n",
              "    <tr>\n",
              "      <th>PXE</th>\n",
              "      <td>176.75M</td>\n",
              "      <td>32.26</td>\n",
              "      <td>5.16</td>\n",
              "      <td>2.81%</td>\n",
              "      <td>11.43%</td>\n",
              "      <td>1.18</td>\n",
              "      <td>0.60%</td>\n",
              "      <td>2005-10-26</td>\n",
              "    </tr>\n",
              "    <tr>\n",
              "      <th>PFFA</th>\n",
              "      <td>627.26M</td>\n",
              "      <td>17.92</td>\n",
              "      <td>NaN</td>\n",
              "      <td>10.25%</td>\n",
              "      <td>8.11%</td>\n",
              "      <td>1.70</td>\n",
              "      <td>1.40%</td>\n",
              "      <td>2018-05-15</td>\n",
              "    </tr>\n",
              "    <tr>\n",
              "      <th>EWJV</th>\n",
              "      <td>253.85M</td>\n",
              "      <td>27.52</td>\n",
              "      <td>10.60</td>\n",
              "      <td>2.30%</td>\n",
              "      <td>15.53%</td>\n",
              "      <td>0.73</td>\n",
              "      <td>0.15%</td>\n",
              "      <td>2019-03-05</td>\n",
              "    </tr>\n",
              "    <tr>\n",
              "      <th>PHO</th>\n",
              "      <td>1.77B</td>\n",
              "      <td>50.81</td>\n",
              "      <td>27.44</td>\n",
              "      <td>0.71%</td>\n",
              "      <td>-0.95%</td>\n",
              "      <td>1.04</td>\n",
              "      <td>0.60%</td>\n",
              "      <td>2005-12-06</td>\n",
              "    </tr>\n",
              "    <tr>\n",
              "      <th>GSJY</th>\n",
              "      <td>13.44M</td>\n",
              "      <td>32.06</td>\n",
              "      <td>11.16</td>\n",
              "      <td>1.93%</td>\n",
              "      <td>9.75%</td>\n",
              "      <td>0.80</td>\n",
              "      <td>0.25%</td>\n",
              "      <td>2016-03-02</td>\n",
              "    </tr>\n",
              "  </tbody>\n",
              "</table>\n",
              "</div>\n",
              "    <div class=\"colab-df-buttons\">\n",
              "\n",
              "  <div class=\"colab-df-container\">\n",
              "    <button class=\"colab-df-convert\" onclick=\"convertToInteractive('df-1411c90e-fa81-4c19-b91f-7212fe14d312')\"\n",
              "            title=\"Convert this dataframe to an interactive table.\"\n",
              "            style=\"display:none;\">\n",
              "\n",
              "  <svg xmlns=\"http://www.w3.org/2000/svg\" height=\"24px\" viewBox=\"0 -960 960 960\">\n",
              "    <path d=\"M120-120v-720h720v720H120Zm60-500h600v-160H180v160Zm220 220h160v-160H400v160Zm0 220h160v-160H400v160ZM180-400h160v-160H180v160Zm440 0h160v-160H620v160ZM180-180h160v-160H180v160Zm440 0h160v-160H620v160Z\"/>\n",
              "  </svg>\n",
              "    </button>\n",
              "\n",
              "  <style>\n",
              "    .colab-df-container {\n",
              "      display:flex;\n",
              "      gap: 12px;\n",
              "    }\n",
              "\n",
              "    .colab-df-convert {\n",
              "      background-color: #E8F0FE;\n",
              "      border: none;\n",
              "      border-radius: 50%;\n",
              "      cursor: pointer;\n",
              "      display: none;\n",
              "      fill: #1967D2;\n",
              "      height: 32px;\n",
              "      padding: 0 0 0 0;\n",
              "      width: 32px;\n",
              "    }\n",
              "\n",
              "    .colab-df-convert:hover {\n",
              "      background-color: #E2EBFA;\n",
              "      box-shadow: 0px 1px 2px rgba(60, 64, 67, 0.3), 0px 1px 3px 1px rgba(60, 64, 67, 0.15);\n",
              "      fill: #174EA6;\n",
              "    }\n",
              "\n",
              "    .colab-df-buttons div {\n",
              "      margin-bottom: 4px;\n",
              "    }\n",
              "\n",
              "    [theme=dark] .colab-df-convert {\n",
              "      background-color: #3B4455;\n",
              "      fill: #D2E3FC;\n",
              "    }\n",
              "\n",
              "    [theme=dark] .colab-df-convert:hover {\n",
              "      background-color: #434B5C;\n",
              "      box-shadow: 0px 1px 3px 1px rgba(0, 0, 0, 0.15);\n",
              "      filter: drop-shadow(0px 1px 2px rgba(0, 0, 0, 0.3));\n",
              "      fill: #FFFFFF;\n",
              "    }\n",
              "  </style>\n",
              "\n",
              "    <script>\n",
              "      const buttonEl =\n",
              "        document.querySelector('#df-1411c90e-fa81-4c19-b91f-7212fe14d312 button.colab-df-convert');\n",
              "      buttonEl.style.display =\n",
              "        google.colab.kernel.accessAllowed ? 'block' : 'none';\n",
              "\n",
              "      async function convertToInteractive(key) {\n",
              "        const element = document.querySelector('#df-1411c90e-fa81-4c19-b91f-7212fe14d312');\n",
              "        const dataTable =\n",
              "          await google.colab.kernel.invokeFunction('convertToInteractive',\n",
              "                                                    [key], {});\n",
              "        if (!dataTable) return;\n",
              "\n",
              "        const docLinkHtml = 'Like what you see? Visit the ' +\n",
              "          '<a target=\"_blank\" href=https://colab.research.google.com/notebooks/data_table.ipynb>data table notebook</a>'\n",
              "          + ' to learn more about interactive tables.';\n",
              "        element.innerHTML = '';\n",
              "        dataTable['output_type'] = 'display_data';\n",
              "        await google.colab.output.renderOutput(dataTable, element);\n",
              "        const docLink = document.createElement('div');\n",
              "        docLink.innerHTML = docLinkHtml;\n",
              "        element.appendChild(docLink);\n",
              "      }\n",
              "    </script>\n",
              "  </div>\n",
              "\n",
              "\n",
              "<div id=\"df-336da6bb-819f-4235-93cb-d134b20b03ec\">\n",
              "  <button class=\"colab-df-quickchart\" onclick=\"quickchart('df-336da6bb-819f-4235-93cb-d134b20b03ec')\"\n",
              "            title=\"Suggest charts.\"\n",
              "            style=\"display:none;\">\n",
              "\n",
              "<svg xmlns=\"http://www.w3.org/2000/svg\" height=\"24px\"viewBox=\"0 0 24 24\"\n",
              "     width=\"24px\">\n",
              "    <g>\n",
              "        <path d=\"M19 3H5c-1.1 0-2 .9-2 2v14c0 1.1.9 2 2 2h14c1.1 0 2-.9 2-2V5c0-1.1-.9-2-2-2zM9 17H7v-7h2v7zm4 0h-2V7h2v10zm4 0h-2v-4h2v4z\"/>\n",
              "    </g>\n",
              "</svg>\n",
              "  </button>\n",
              "\n",
              "<style>\n",
              "  .colab-df-quickchart {\n",
              "      --bg-color: #E8F0FE;\n",
              "      --fill-color: #1967D2;\n",
              "      --hover-bg-color: #E2EBFA;\n",
              "      --hover-fill-color: #174EA6;\n",
              "      --disabled-fill-color: #AAA;\n",
              "      --disabled-bg-color: #DDD;\n",
              "  }\n",
              "\n",
              "  [theme=dark] .colab-df-quickchart {\n",
              "      --bg-color: #3B4455;\n",
              "      --fill-color: #D2E3FC;\n",
              "      --hover-bg-color: #434B5C;\n",
              "      --hover-fill-color: #FFFFFF;\n",
              "      --disabled-bg-color: #3B4455;\n",
              "      --disabled-fill-color: #666;\n",
              "  }\n",
              "\n",
              "  .colab-df-quickchart {\n",
              "    background-color: var(--bg-color);\n",
              "    border: none;\n",
              "    border-radius: 50%;\n",
              "    cursor: pointer;\n",
              "    display: none;\n",
              "    fill: var(--fill-color);\n",
              "    height: 32px;\n",
              "    padding: 0;\n",
              "    width: 32px;\n",
              "  }\n",
              "\n",
              "  .colab-df-quickchart:hover {\n",
              "    background-color: var(--hover-bg-color);\n",
              "    box-shadow: 0 1px 2px rgba(60, 64, 67, 0.3), 0 1px 3px 1px rgba(60, 64, 67, 0.15);\n",
              "    fill: var(--button-hover-fill-color);\n",
              "  }\n",
              "\n",
              "  .colab-df-quickchart-complete:disabled,\n",
              "  .colab-df-quickchart-complete:disabled:hover {\n",
              "    background-color: var(--disabled-bg-color);\n",
              "    fill: var(--disabled-fill-color);\n",
              "    box-shadow: none;\n",
              "  }\n",
              "\n",
              "  .colab-df-spinner {\n",
              "    border: 2px solid var(--fill-color);\n",
              "    border-color: transparent;\n",
              "    border-bottom-color: var(--fill-color);\n",
              "    animation:\n",
              "      spin 1s steps(1) infinite;\n",
              "  }\n",
              "\n",
              "  @keyframes spin {\n",
              "    0% {\n",
              "      border-color: transparent;\n",
              "      border-bottom-color: var(--fill-color);\n",
              "      border-left-color: var(--fill-color);\n",
              "    }\n",
              "    20% {\n",
              "      border-color: transparent;\n",
              "      border-left-color: var(--fill-color);\n",
              "      border-top-color: var(--fill-color);\n",
              "    }\n",
              "    30% {\n",
              "      border-color: transparent;\n",
              "      border-left-color: var(--fill-color);\n",
              "      border-top-color: var(--fill-color);\n",
              "      border-right-color: var(--fill-color);\n",
              "    }\n",
              "    40% {\n",
              "      border-color: transparent;\n",
              "      border-right-color: var(--fill-color);\n",
              "      border-top-color: var(--fill-color);\n",
              "    }\n",
              "    60% {\n",
              "      border-color: transparent;\n",
              "      border-right-color: var(--fill-color);\n",
              "    }\n",
              "    80% {\n",
              "      border-color: transparent;\n",
              "      border-right-color: var(--fill-color);\n",
              "      border-bottom-color: var(--fill-color);\n",
              "    }\n",
              "    90% {\n",
              "      border-color: transparent;\n",
              "      border-bottom-color: var(--fill-color);\n",
              "    }\n",
              "  }\n",
              "</style>\n",
              "\n",
              "  <script>\n",
              "    async function quickchart(key) {\n",
              "      const quickchartButtonEl =\n",
              "        document.querySelector('#' + key + ' button');\n",
              "      quickchartButtonEl.disabled = true;  // To prevent multiple clicks.\n",
              "      quickchartButtonEl.classList.add('colab-df-spinner');\n",
              "      try {\n",
              "        const charts = await google.colab.kernel.invokeFunction(\n",
              "            'suggestCharts', [key], {});\n",
              "      } catch (error) {\n",
              "        console.error('Error during call to suggestCharts:', error);\n",
              "      }\n",
              "      quickchartButtonEl.classList.remove('colab-df-spinner');\n",
              "      quickchartButtonEl.classList.add('colab-df-quickchart-complete');\n",
              "    }\n",
              "    (() => {\n",
              "      let quickchartButtonEl =\n",
              "        document.querySelector('#df-336da6bb-819f-4235-93cb-d134b20b03ec button');\n",
              "      quickchartButtonEl.style.display =\n",
              "        google.colab.kernel.accessAllowed ? 'block' : 'none';\n",
              "    })();\n",
              "  </script>\n",
              "</div>\n",
              "    </div>\n",
              "  </div>\n"
            ]
          },
          "metadata": {}
        }
      ],
      "source": [
        "#Net assets table\n",
        "\n",
        "headers = {\n",
        "    \"User-Agent\": \"Mozilla/5.0 (Windows NT 10.0; Win64; x64) AppleWebKit/537.36 (KHTML, like Gecko) Chrome/85.0.4183.121 Safari/537.36\"\n",
        "}\n",
        "\n",
        "net_assets = pd.DataFrame()\n",
        "\n",
        "for ticker in tickers:\n",
        "\n",
        "    url = f\"https://finance.yahoo.com/quote/{ticker}?p={ticker}\"\n",
        "    response = requests.get(url, headers=headers)\n",
        "\n",
        "    try:\n",
        "        tables = pd.read_html(response.text)\n",
        "        for table in tables:\n",
        "            labels_to_remove = [\"Previous Close\", \"Open\", \"Bid\", \"Ask\", \"Day's Range\", \"52 Week Range\", \"Volume\",\"Avg. Volume\"]\n",
        "            table = table[~table.iloc[:, 0].isin(labels_to_remove)]\n",
        "\n",
        "            data_series = pd.Series(dict(zip(table.iloc[:, 0], table.iloc[:, 1])))\n",
        "\n",
        "            net_assets[ticker] = data_series\n",
        "    except ValueError:\n",
        "        print(f\"No hay tablas para {ticker}\")\n",
        "\n",
        "net_assets = net_assets.T\n",
        "\n",
        "display(net_assets)\n",
        "\n"
      ]
    },
    {
      "cell_type": "code",
      "execution_count": 11,
      "metadata": {
        "colab": {
          "base_uri": "https://localhost:8080/",
          "height": 1000
        },
        "id": "0kJxCWql_ucv",
        "outputId": "cbd9a78b-6726-4259-d10f-bc14d6117c8a"
      },
      "outputs": [
        {
          "output_type": "stream",
          "name": "stdout",
          "text": [
            "Fetching tables for DXJS...\n"
          ]
        },
        {
          "output_type": "stream",
          "name": "stderr",
          "text": [
            "<ipython-input-11-77644580c77a>:14: FutureWarning: Passing literal html to 'read_html' is deprecated and will be removed in a future version. To read from a literal string, wrap it in a 'StringIO' object.\n",
            "  tables = pd.read_html(response.text)\n"
          ]
        },
        {
          "output_type": "stream",
          "name": "stdout",
          "text": [
            "Fetching tables for FLJH...\n"
          ]
        },
        {
          "output_type": "stream",
          "name": "stderr",
          "text": [
            "<ipython-input-11-77644580c77a>:14: FutureWarning: Passing literal html to 'read_html' is deprecated and will be removed in a future version. To read from a literal string, wrap it in a 'StringIO' object.\n",
            "  tables = pd.read_html(response.text)\n"
          ]
        },
        {
          "output_type": "stream",
          "name": "stdout",
          "text": [
            "Fetching tables for HEWJ...\n"
          ]
        },
        {
          "output_type": "stream",
          "name": "stderr",
          "text": [
            "<ipython-input-11-77644580c77a>:14: FutureWarning: Passing literal html to 'read_html' is deprecated and will be removed in a future version. To read from a literal string, wrap it in a 'StringIO' object.\n",
            "  tables = pd.read_html(response.text)\n"
          ]
        },
        {
          "output_type": "stream",
          "name": "stdout",
          "text": [
            "Fetching tables for DXJ...\n"
          ]
        },
        {
          "output_type": "stream",
          "name": "stderr",
          "text": [
            "<ipython-input-11-77644580c77a>:14: FutureWarning: Passing literal html to 'read_html' is deprecated and will be removed in a future version. To read from a literal string, wrap it in a 'StringIO' object.\n",
            "  tables = pd.read_html(response.text)\n"
          ]
        },
        {
          "output_type": "stream",
          "name": "stdout",
          "text": [
            "Fetching tables for DBJP...\n"
          ]
        },
        {
          "output_type": "stream",
          "name": "stderr",
          "text": [
            "<ipython-input-11-77644580c77a>:14: FutureWarning: Passing literal html to 'read_html' is deprecated and will be removed in a future version. To read from a literal string, wrap it in a 'StringIO' object.\n",
            "  tables = pd.read_html(response.text)\n"
          ]
        },
        {
          "output_type": "stream",
          "name": "stdout",
          "text": [
            "Fetching tables for PTH...\n"
          ]
        },
        {
          "output_type": "stream",
          "name": "stderr",
          "text": [
            "<ipython-input-11-77644580c77a>:14: FutureWarning: Passing literal html to 'read_html' is deprecated and will be removed in a future version. To read from a literal string, wrap it in a 'StringIO' object.\n",
            "  tables = pd.read_html(response.text)\n"
          ]
        },
        {
          "output_type": "stream",
          "name": "stdout",
          "text": [
            "Fetching tables for XTL...\n"
          ]
        },
        {
          "output_type": "stream",
          "name": "stderr",
          "text": [
            "<ipython-input-11-77644580c77a>:14: FutureWarning: Passing literal html to 'read_html' is deprecated and will be removed in a future version. To read from a literal string, wrap it in a 'StringIO' object.\n",
            "  tables = pd.read_html(response.text)\n"
          ]
        },
        {
          "output_type": "stream",
          "name": "stdout",
          "text": [
            "Fetching tables for XLRE...\n"
          ]
        },
        {
          "output_type": "stream",
          "name": "stderr",
          "text": [
            "<ipython-input-11-77644580c77a>:14: FutureWarning: Passing literal html to 'read_html' is deprecated and will be removed in a future version. To read from a literal string, wrap it in a 'StringIO' object.\n",
            "  tables = pd.read_html(response.text)\n"
          ]
        },
        {
          "output_type": "stream",
          "name": "stdout",
          "text": [
            "Fetching tables for ICF...\n"
          ]
        },
        {
          "output_type": "stream",
          "name": "stderr",
          "text": [
            "<ipython-input-11-77644580c77a>:14: FutureWarning: Passing literal html to 'read_html' is deprecated and will be removed in a future version. To read from a literal string, wrap it in a 'StringIO' object.\n",
            "  tables = pd.read_html(response.text)\n"
          ]
        },
        {
          "output_type": "stream",
          "name": "stdout",
          "text": [
            "Fetching tables for HSCZ...\n"
          ]
        },
        {
          "output_type": "stream",
          "name": "stderr",
          "text": [
            "<ipython-input-11-77644580c77a>:14: FutureWarning: Passing literal html to 'read_html' is deprecated and will be removed in a future version. To read from a literal string, wrap it in a 'StringIO' object.\n",
            "  tables = pd.read_html(response.text)\n"
          ]
        },
        {
          "output_type": "stream",
          "name": "stdout",
          "text": [
            "Fetching tables for XSD...\n"
          ]
        },
        {
          "output_type": "stream",
          "name": "stderr",
          "text": [
            "<ipython-input-11-77644580c77a>:14: FutureWarning: Passing literal html to 'read_html' is deprecated and will be removed in a future version. To read from a literal string, wrap it in a 'StringIO' object.\n",
            "  tables = pd.read_html(response.text)\n"
          ]
        },
        {
          "output_type": "stream",
          "name": "stdout",
          "text": [
            "Fetching tables for IHI...\n"
          ]
        },
        {
          "output_type": "stream",
          "name": "stderr",
          "text": [
            "<ipython-input-11-77644580c77a>:14: FutureWarning: Passing literal html to 'read_html' is deprecated and will be removed in a future version. To read from a literal string, wrap it in a 'StringIO' object.\n",
            "  tables = pd.read_html(response.text)\n"
          ]
        },
        {
          "output_type": "stream",
          "name": "stdout",
          "text": [
            "Fetching tables for PSCT...\n"
          ]
        },
        {
          "output_type": "stream",
          "name": "stderr",
          "text": [
            "<ipython-input-11-77644580c77a>:14: FutureWarning: Passing literal html to 'read_html' is deprecated and will be removed in a future version. To read from a literal string, wrap it in a 'StringIO' object.\n",
            "  tables = pd.read_html(response.text)\n"
          ]
        },
        {
          "output_type": "stream",
          "name": "stdout",
          "text": [
            "Fetching tables for XAR...\n"
          ]
        },
        {
          "output_type": "stream",
          "name": "stderr",
          "text": [
            "<ipython-input-11-77644580c77a>:14: FutureWarning: Passing literal html to 'read_html' is deprecated and will be removed in a future version. To read from a literal string, wrap it in a 'StringIO' object.\n",
            "  tables = pd.read_html(response.text)\n"
          ]
        },
        {
          "output_type": "stream",
          "name": "stdout",
          "text": [
            "Fetching tables for PPA...\n"
          ]
        },
        {
          "output_type": "stream",
          "name": "stderr",
          "text": [
            "<ipython-input-11-77644580c77a>:14: FutureWarning: Passing literal html to 'read_html' is deprecated and will be removed in a future version. To read from a literal string, wrap it in a 'StringIO' object.\n",
            "  tables = pd.read_html(response.text)\n"
          ]
        },
        {
          "output_type": "stream",
          "name": "stdout",
          "text": [
            "Fetching tables for CIBR...\n"
          ]
        },
        {
          "output_type": "stream",
          "name": "stderr",
          "text": [
            "<ipython-input-11-77644580c77a>:14: FutureWarning: Passing literal html to 'read_html' is deprecated and will be removed in a future version. To read from a literal string, wrap it in a 'StringIO' object.\n",
            "  tables = pd.read_html(response.text)\n"
          ]
        },
        {
          "output_type": "stream",
          "name": "stdout",
          "text": [
            "Fetching tables for CNRG...\n"
          ]
        },
        {
          "output_type": "stream",
          "name": "stderr",
          "text": [
            "<ipython-input-11-77644580c77a>:14: FutureWarning: Passing literal html to 'read_html' is deprecated and will be removed in a future version. To read from a literal string, wrap it in a 'StringIO' object.\n",
            "  tables = pd.read_html(response.text)\n"
          ]
        },
        {
          "output_type": "stream",
          "name": "stdout",
          "text": [
            "Fetching tables for PSR...\n"
          ]
        },
        {
          "output_type": "stream",
          "name": "stderr",
          "text": [
            "<ipython-input-11-77644580c77a>:14: FutureWarning: Passing literal html to 'read_html' is deprecated and will be removed in a future version. To read from a literal string, wrap it in a 'StringIO' object.\n",
            "  tables = pd.read_html(response.text)\n"
          ]
        },
        {
          "output_type": "stream",
          "name": "stdout",
          "text": [
            "Fetching tables for PTF...\n"
          ]
        },
        {
          "output_type": "stream",
          "name": "stderr",
          "text": [
            "<ipython-input-11-77644580c77a>:14: FutureWarning: Passing literal html to 'read_html' is deprecated and will be removed in a future version. To read from a literal string, wrap it in a 'StringIO' object.\n",
            "  tables = pd.read_html(response.text)\n"
          ]
        },
        {
          "output_type": "stream",
          "name": "stdout",
          "text": [
            "Fetching tables for ITB...\n"
          ]
        },
        {
          "output_type": "stream",
          "name": "stderr",
          "text": [
            "<ipython-input-11-77644580c77a>:14: FutureWarning: Passing literal html to 'read_html' is deprecated and will be removed in a future version. To read from a literal string, wrap it in a 'StringIO' object.\n",
            "  tables = pd.read_html(response.text)\n"
          ]
        },
        {
          "output_type": "stream",
          "name": "stdout",
          "text": [
            "Fetching tables for PXE...\n"
          ]
        },
        {
          "output_type": "stream",
          "name": "stderr",
          "text": [
            "<ipython-input-11-77644580c77a>:14: FutureWarning: Passing literal html to 'read_html' is deprecated and will be removed in a future version. To read from a literal string, wrap it in a 'StringIO' object.\n",
            "  tables = pd.read_html(response.text)\n"
          ]
        },
        {
          "output_type": "stream",
          "name": "stdout",
          "text": [
            "Fetching tables for PFFA...\n"
          ]
        },
        {
          "output_type": "stream",
          "name": "stderr",
          "text": [
            "<ipython-input-11-77644580c77a>:14: FutureWarning: Passing literal html to 'read_html' is deprecated and will be removed in a future version. To read from a literal string, wrap it in a 'StringIO' object.\n",
            "  tables = pd.read_html(response.text)\n"
          ]
        },
        {
          "output_type": "stream",
          "name": "stdout",
          "text": [
            "Fetching tables for EWJV...\n"
          ]
        },
        {
          "output_type": "stream",
          "name": "stderr",
          "text": [
            "<ipython-input-11-77644580c77a>:14: FutureWarning: Passing literal html to 'read_html' is deprecated and will be removed in a future version. To read from a literal string, wrap it in a 'StringIO' object.\n",
            "  tables = pd.read_html(response.text)\n"
          ]
        },
        {
          "output_type": "stream",
          "name": "stdout",
          "text": [
            "Fetching tables for PHO...\n"
          ]
        },
        {
          "output_type": "stream",
          "name": "stderr",
          "text": [
            "<ipython-input-11-77644580c77a>:14: FutureWarning: Passing literal html to 'read_html' is deprecated and will be removed in a future version. To read from a literal string, wrap it in a 'StringIO' object.\n",
            "  tables = pd.read_html(response.text)\n"
          ]
        },
        {
          "output_type": "stream",
          "name": "stdout",
          "text": [
            "Fetching tables for GSJY...\n"
          ]
        },
        {
          "output_type": "stream",
          "name": "stderr",
          "text": [
            "<ipython-input-11-77644580c77a>:14: FutureWarning: Passing literal html to 'read_html' is deprecated and will be removed in a future version. To read from a literal string, wrap it in a 'StringIO' object.\n",
            "  tables = pd.read_html(response.text)\n"
          ]
        },
        {
          "output_type": "display_data",
          "data": {
            "text/plain": [
              "                                    Name  Symbol % Assets Ticker\n",
              "0                         Kobe Steel Ltd  5406.T    1.75%   DXJS\n",
              "1           Cosmo Energy Holdings Co Ltd  5021.T    0.92%   DXJS\n",
              "2                  Tokyo Seimitsu Co Ltd  7729.T    0.69%   DXJS\n",
              "3                        Aozora Bank Ltd  8304.T    0.68%   DXJS\n",
              "4                         Seven Bank Ltd  8410.T    0.64%   DXJS\n",
              "..                                   ...     ...      ...    ...\n",
              "228  Sumitomo Mitsui Financial Group Inc  8316.T    1.67%   GSJY\n",
              "229                      Mitsui & Co Ltd  8031.T    1.66%   GSJY\n",
              "230                         Keyence Corp  6861.T    1.61%   GSJY\n",
              "231         Takeda Pharmaceutical Co Ltd  4502.T    1.59%   GSJY\n",
              "232                   Tokyo Electron Ltd  8035.T    1.56%   GSJY\n",
              "\n",
              "[233 rows x 4 columns]"
            ],
            "text/html": [
              "\n",
              "  <div id=\"df-b5efeb48-5ea9-4cbc-87eb-5ba97d87da5b\" class=\"colab-df-container\">\n",
              "    <div>\n",
              "<style scoped>\n",
              "    .dataframe tbody tr th:only-of-type {\n",
              "        vertical-align: middle;\n",
              "    }\n",
              "\n",
              "    .dataframe tbody tr th {\n",
              "        vertical-align: top;\n",
              "    }\n",
              "\n",
              "    .dataframe thead th {\n",
              "        text-align: right;\n",
              "    }\n",
              "</style>\n",
              "<table border=\"1\" class=\"dataframe\">\n",
              "  <thead>\n",
              "    <tr style=\"text-align: right;\">\n",
              "      <th></th>\n",
              "      <th>Name</th>\n",
              "      <th>Symbol</th>\n",
              "      <th>% Assets</th>\n",
              "      <th>Ticker</th>\n",
              "    </tr>\n",
              "  </thead>\n",
              "  <tbody>\n",
              "    <tr>\n",
              "      <th>0</th>\n",
              "      <td>Kobe Steel Ltd</td>\n",
              "      <td>5406.T</td>\n",
              "      <td>1.75%</td>\n",
              "      <td>DXJS</td>\n",
              "    </tr>\n",
              "    <tr>\n",
              "      <th>1</th>\n",
              "      <td>Cosmo Energy Holdings Co Ltd</td>\n",
              "      <td>5021.T</td>\n",
              "      <td>0.92%</td>\n",
              "      <td>DXJS</td>\n",
              "    </tr>\n",
              "    <tr>\n",
              "      <th>2</th>\n",
              "      <td>Tokyo Seimitsu Co Ltd</td>\n",
              "      <td>7729.T</td>\n",
              "      <td>0.69%</td>\n",
              "      <td>DXJS</td>\n",
              "    </tr>\n",
              "    <tr>\n",
              "      <th>3</th>\n",
              "      <td>Aozora Bank Ltd</td>\n",
              "      <td>8304.T</td>\n",
              "      <td>0.68%</td>\n",
              "      <td>DXJS</td>\n",
              "    </tr>\n",
              "    <tr>\n",
              "      <th>4</th>\n",
              "      <td>Seven Bank Ltd</td>\n",
              "      <td>8410.T</td>\n",
              "      <td>0.64%</td>\n",
              "      <td>DXJS</td>\n",
              "    </tr>\n",
              "    <tr>\n",
              "      <th>...</th>\n",
              "      <td>...</td>\n",
              "      <td>...</td>\n",
              "      <td>...</td>\n",
              "      <td>...</td>\n",
              "    </tr>\n",
              "    <tr>\n",
              "      <th>228</th>\n",
              "      <td>Sumitomo Mitsui Financial Group Inc</td>\n",
              "      <td>8316.T</td>\n",
              "      <td>1.67%</td>\n",
              "      <td>GSJY</td>\n",
              "    </tr>\n",
              "    <tr>\n",
              "      <th>229</th>\n",
              "      <td>Mitsui &amp; Co Ltd</td>\n",
              "      <td>8031.T</td>\n",
              "      <td>1.66%</td>\n",
              "      <td>GSJY</td>\n",
              "    </tr>\n",
              "    <tr>\n",
              "      <th>230</th>\n",
              "      <td>Keyence Corp</td>\n",
              "      <td>6861.T</td>\n",
              "      <td>1.61%</td>\n",
              "      <td>GSJY</td>\n",
              "    </tr>\n",
              "    <tr>\n",
              "      <th>231</th>\n",
              "      <td>Takeda Pharmaceutical Co Ltd</td>\n",
              "      <td>4502.T</td>\n",
              "      <td>1.59%</td>\n",
              "      <td>GSJY</td>\n",
              "    </tr>\n",
              "    <tr>\n",
              "      <th>232</th>\n",
              "      <td>Tokyo Electron Ltd</td>\n",
              "      <td>8035.T</td>\n",
              "      <td>1.56%</td>\n",
              "      <td>GSJY</td>\n",
              "    </tr>\n",
              "  </tbody>\n",
              "</table>\n",
              "<p>233 rows × 4 columns</p>\n",
              "</div>\n",
              "    <div class=\"colab-df-buttons\">\n",
              "\n",
              "  <div class=\"colab-df-container\">\n",
              "    <button class=\"colab-df-convert\" onclick=\"convertToInteractive('df-b5efeb48-5ea9-4cbc-87eb-5ba97d87da5b')\"\n",
              "            title=\"Convert this dataframe to an interactive table.\"\n",
              "            style=\"display:none;\">\n",
              "\n",
              "  <svg xmlns=\"http://www.w3.org/2000/svg\" height=\"24px\" viewBox=\"0 -960 960 960\">\n",
              "    <path d=\"M120-120v-720h720v720H120Zm60-500h600v-160H180v160Zm220 220h160v-160H400v160Zm0 220h160v-160H400v160ZM180-400h160v-160H180v160Zm440 0h160v-160H620v160ZM180-180h160v-160H180v160Zm440 0h160v-160H620v160Z\"/>\n",
              "  </svg>\n",
              "    </button>\n",
              "\n",
              "  <style>\n",
              "    .colab-df-container {\n",
              "      display:flex;\n",
              "      gap: 12px;\n",
              "    }\n",
              "\n",
              "    .colab-df-convert {\n",
              "      background-color: #E8F0FE;\n",
              "      border: none;\n",
              "      border-radius: 50%;\n",
              "      cursor: pointer;\n",
              "      display: none;\n",
              "      fill: #1967D2;\n",
              "      height: 32px;\n",
              "      padding: 0 0 0 0;\n",
              "      width: 32px;\n",
              "    }\n",
              "\n",
              "    .colab-df-convert:hover {\n",
              "      background-color: #E2EBFA;\n",
              "      box-shadow: 0px 1px 2px rgba(60, 64, 67, 0.3), 0px 1px 3px 1px rgba(60, 64, 67, 0.15);\n",
              "      fill: #174EA6;\n",
              "    }\n",
              "\n",
              "    .colab-df-buttons div {\n",
              "      margin-bottom: 4px;\n",
              "    }\n",
              "\n",
              "    [theme=dark] .colab-df-convert {\n",
              "      background-color: #3B4455;\n",
              "      fill: #D2E3FC;\n",
              "    }\n",
              "\n",
              "    [theme=dark] .colab-df-convert:hover {\n",
              "      background-color: #434B5C;\n",
              "      box-shadow: 0px 1px 3px 1px rgba(0, 0, 0, 0.15);\n",
              "      filter: drop-shadow(0px 1px 2px rgba(0, 0, 0, 0.3));\n",
              "      fill: #FFFFFF;\n",
              "    }\n",
              "  </style>\n",
              "\n",
              "    <script>\n",
              "      const buttonEl =\n",
              "        document.querySelector('#df-b5efeb48-5ea9-4cbc-87eb-5ba97d87da5b button.colab-df-convert');\n",
              "      buttonEl.style.display =\n",
              "        google.colab.kernel.accessAllowed ? 'block' : 'none';\n",
              "\n",
              "      async function convertToInteractive(key) {\n",
              "        const element = document.querySelector('#df-b5efeb48-5ea9-4cbc-87eb-5ba97d87da5b');\n",
              "        const dataTable =\n",
              "          await google.colab.kernel.invokeFunction('convertToInteractive',\n",
              "                                                    [key], {});\n",
              "        if (!dataTable) return;\n",
              "\n",
              "        const docLinkHtml = 'Like what you see? Visit the ' +\n",
              "          '<a target=\"_blank\" href=https://colab.research.google.com/notebooks/data_table.ipynb>data table notebook</a>'\n",
              "          + ' to learn more about interactive tables.';\n",
              "        element.innerHTML = '';\n",
              "        dataTable['output_type'] = 'display_data';\n",
              "        await google.colab.output.renderOutput(dataTable, element);\n",
              "        const docLink = document.createElement('div');\n",
              "        docLink.innerHTML = docLinkHtml;\n",
              "        element.appendChild(docLink);\n",
              "      }\n",
              "    </script>\n",
              "  </div>\n",
              "\n",
              "\n",
              "<div id=\"df-337e7fe6-dc15-43d6-9ed8-e9076f8f295a\">\n",
              "  <button class=\"colab-df-quickchart\" onclick=\"quickchart('df-337e7fe6-dc15-43d6-9ed8-e9076f8f295a')\"\n",
              "            title=\"Suggest charts.\"\n",
              "            style=\"display:none;\">\n",
              "\n",
              "<svg xmlns=\"http://www.w3.org/2000/svg\" height=\"24px\"viewBox=\"0 0 24 24\"\n",
              "     width=\"24px\">\n",
              "    <g>\n",
              "        <path d=\"M19 3H5c-1.1 0-2 .9-2 2v14c0 1.1.9 2 2 2h14c1.1 0 2-.9 2-2V5c0-1.1-.9-2-2-2zM9 17H7v-7h2v7zm4 0h-2V7h2v10zm4 0h-2v-4h2v4z\"/>\n",
              "    </g>\n",
              "</svg>\n",
              "  </button>\n",
              "\n",
              "<style>\n",
              "  .colab-df-quickchart {\n",
              "      --bg-color: #E8F0FE;\n",
              "      --fill-color: #1967D2;\n",
              "      --hover-bg-color: #E2EBFA;\n",
              "      --hover-fill-color: #174EA6;\n",
              "      --disabled-fill-color: #AAA;\n",
              "      --disabled-bg-color: #DDD;\n",
              "  }\n",
              "\n",
              "  [theme=dark] .colab-df-quickchart {\n",
              "      --bg-color: #3B4455;\n",
              "      --fill-color: #D2E3FC;\n",
              "      --hover-bg-color: #434B5C;\n",
              "      --hover-fill-color: #FFFFFF;\n",
              "      --disabled-bg-color: #3B4455;\n",
              "      --disabled-fill-color: #666;\n",
              "  }\n",
              "\n",
              "  .colab-df-quickchart {\n",
              "    background-color: var(--bg-color);\n",
              "    border: none;\n",
              "    border-radius: 50%;\n",
              "    cursor: pointer;\n",
              "    display: none;\n",
              "    fill: var(--fill-color);\n",
              "    height: 32px;\n",
              "    padding: 0;\n",
              "    width: 32px;\n",
              "  }\n",
              "\n",
              "  .colab-df-quickchart:hover {\n",
              "    background-color: var(--hover-bg-color);\n",
              "    box-shadow: 0 1px 2px rgba(60, 64, 67, 0.3), 0 1px 3px 1px rgba(60, 64, 67, 0.15);\n",
              "    fill: var(--button-hover-fill-color);\n",
              "  }\n",
              "\n",
              "  .colab-df-quickchart-complete:disabled,\n",
              "  .colab-df-quickchart-complete:disabled:hover {\n",
              "    background-color: var(--disabled-bg-color);\n",
              "    fill: var(--disabled-fill-color);\n",
              "    box-shadow: none;\n",
              "  }\n",
              "\n",
              "  .colab-df-spinner {\n",
              "    border: 2px solid var(--fill-color);\n",
              "    border-color: transparent;\n",
              "    border-bottom-color: var(--fill-color);\n",
              "    animation:\n",
              "      spin 1s steps(1) infinite;\n",
              "  }\n",
              "\n",
              "  @keyframes spin {\n",
              "    0% {\n",
              "      border-color: transparent;\n",
              "      border-bottom-color: var(--fill-color);\n",
              "      border-left-color: var(--fill-color);\n",
              "    }\n",
              "    20% {\n",
              "      border-color: transparent;\n",
              "      border-left-color: var(--fill-color);\n",
              "      border-top-color: var(--fill-color);\n",
              "    }\n",
              "    30% {\n",
              "      border-color: transparent;\n",
              "      border-left-color: var(--fill-color);\n",
              "      border-top-color: var(--fill-color);\n",
              "      border-right-color: var(--fill-color);\n",
              "    }\n",
              "    40% {\n",
              "      border-color: transparent;\n",
              "      border-right-color: var(--fill-color);\n",
              "      border-top-color: var(--fill-color);\n",
              "    }\n",
              "    60% {\n",
              "      border-color: transparent;\n",
              "      border-right-color: var(--fill-color);\n",
              "    }\n",
              "    80% {\n",
              "      border-color: transparent;\n",
              "      border-right-color: var(--fill-color);\n",
              "      border-bottom-color: var(--fill-color);\n",
              "    }\n",
              "    90% {\n",
              "      border-color: transparent;\n",
              "      border-bottom-color: var(--fill-color);\n",
              "    }\n",
              "  }\n",
              "</style>\n",
              "\n",
              "  <script>\n",
              "    async function quickchart(key) {\n",
              "      const quickchartButtonEl =\n",
              "        document.querySelector('#' + key + ' button');\n",
              "      quickchartButtonEl.disabled = true;  // To prevent multiple clicks.\n",
              "      quickchartButtonEl.classList.add('colab-df-spinner');\n",
              "      try {\n",
              "        const charts = await google.colab.kernel.invokeFunction(\n",
              "            'suggestCharts', [key], {});\n",
              "      } catch (error) {\n",
              "        console.error('Error during call to suggestCharts:', error);\n",
              "      }\n",
              "      quickchartButtonEl.classList.remove('colab-df-spinner');\n",
              "      quickchartButtonEl.classList.add('colab-df-quickchart-complete');\n",
              "    }\n",
              "    (() => {\n",
              "      let quickchartButtonEl =\n",
              "        document.querySelector('#df-337e7fe6-dc15-43d6-9ed8-e9076f8f295a button');\n",
              "      quickchartButtonEl.style.display =\n",
              "        google.colab.kernel.accessAllowed ? 'block' : 'none';\n",
              "    })();\n",
              "  </script>\n",
              "</div>\n",
              "    </div>\n",
              "  </div>\n"
            ]
          },
          "metadata": {}
        }
      ],
      "source": [
        "headers = {\n",
        "    \"User-Agent\": \"Mozilla/5.0 (Windows NT 10.0; Win64; x64) AppleWebKit/537.36 (KHTML, like Gecko) Chrome/85.0.4183.121 Safari/537.36\"\n",
        "}\n",
        "\n",
        "all_dataframes = []\n",
        "\n",
        "for ticker in tickers:\n",
        "    print(f\"Fetching tables for {ticker}...\")\n",
        "\n",
        "    url = f\"https://finance.yahoo.com/quote/{ticker}/holdings?p={ticker}\"\n",
        "    response = requests.get(url, headers=headers)\n",
        "\n",
        "    try:\n",
        "        tables = pd.read_html(response.text)\n",
        "        for table in tables:\n",
        "            table['Ticker'] = ticker  # Add the 'Ticker' column\n",
        "            all_dataframes.append(table)\n",
        "    except ValueError:\n",
        "        print(f\"No tables found for {ticker}\")\n",
        "\n",
        "# Concatenate all dataframes\n",
        "merged_df = pd.concat(all_dataframes, ignore_index=True)\n",
        "\n",
        "display(merged_df)\n"
      ]
    },
    {
      "cell_type": "code",
      "execution_count": 12,
      "metadata": {
        "id": "EZLaNQ1j_1Mj",
        "colab": {
          "base_uri": "https://localhost:8080/"
        },
        "outputId": "3c033cc9-8d7a-4f67-cb1d-81a0b1b75b30"
      },
      "outputs": [
        {
          "output_type": "stream",
          "name": "stdout",
          "text": [
            "Collecting airtable-python-wrapper\n",
            "  Downloading airtable_python_wrapper-0.15.3-py2.py3-none-any.whl (12 kB)\n",
            "Requirement already satisfied: requests>=2 in /usr/local/lib/python3.10/dist-packages (from airtable-python-wrapper) (2.31.0)\n",
            "Requirement already satisfied: charset-normalizer<4,>=2 in /usr/local/lib/python3.10/dist-packages (from requests>=2->airtable-python-wrapper) (3.3.1)\n",
            "Requirement already satisfied: idna<4,>=2.5 in /usr/local/lib/python3.10/dist-packages (from requests>=2->airtable-python-wrapper) (3.4)\n",
            "Requirement already satisfied: urllib3<3,>=1.21.1 in /usr/local/lib/python3.10/dist-packages (from requests>=2->airtable-python-wrapper) (2.0.7)\n",
            "Requirement already satisfied: certifi>=2017.4.17 in /usr/local/lib/python3.10/dist-packages (from requests>=2->airtable-python-wrapper) (2023.7.22)\n",
            "Installing collected packages: airtable-python-wrapper\n",
            "Successfully installed airtable-python-wrapper-0.15.3\n"
          ]
        }
      ],
      "source": []
    },
    {
      "cell_type": "code",
      "execution_count": 27,
      "metadata": {
        "id": "ZAFTw6fEBd_G"
      },
      "outputs": [],
      "source": [
        "\n"
      ]
    },
    {
      "cell_type": "code",
      "execution_count": 26,
      "metadata": {
        "id": "YnmoiW9RFGtk"
      },
      "outputs": [],
      "source": [
        "\n"
      ]
    },
    {
      "cell_type": "code",
      "execution_count": null,
      "metadata": {
        "id": "-FYLGe02Bmcr"
      },
      "outputs": [],
      "source": []
    },
    {
      "cell_type": "code",
      "execution_count": null,
      "metadata": {
        "id": "FV__iUCwBxBZ"
      },
      "outputs": [],
      "source": [
        "\n"
      ]
    },
    {
      "cell_type": "markdown",
      "metadata": {
        "id": "t5ckS1EcBdJw"
      },
      "source": [
        "# Sección Karlos"
      ]
    },
    {
      "cell_type": "code",
      "execution_count": null,
      "metadata": {
        "id": "shpoLlI7BhP4"
      },
      "outputs": [],
      "source": []
    },
    {
      "cell_type": "markdown",
      "metadata": {
        "id": "SLyPfgjRBiLZ"
      },
      "source": [
        "# Sección Josep"
      ]
    },
    {
      "cell_type": "code",
      "execution_count": null,
      "metadata": {
        "id": "aY6rgjUuBlCX"
      },
      "outputs": [],
      "source": [
        "df\n"
      ]
    },
    {
      "cell_type": "code",
      "execution_count": null,
      "metadata": {
        "id": "cGt0L9JFbZst"
      },
      "outputs": [],
      "source": [
        "df_describe = df.describe()\n",
        "df_describe\n"
      ]
    },
    {
      "cell_type": "code",
      "execution_count": null,
      "metadata": {
        "id": "hhtkGunubehc"
      },
      "outputs": [],
      "source": []
    }
  ],
  "metadata": {
    "colab": {
      "collapsed_sections": [
        "qbZkKpyC9AEK",
        "Fe2VYO2XiTyD",
        "hmhqF1XRBXjT",
        "t5ckS1EcBdJw",
        "SLyPfgjRBiLZ"
      ],
      "provenance": [],
      "include_colab_link": true
    },
    "kernelspec": {
      "display_name": "Python 3",
      "name": "python3"
    },
    "language_info": {
      "codemirror_mode": {
        "name": "ipython",
        "version": 3
      },
      "file_extension": ".py",
      "mimetype": "text/x-python",
      "name": "python",
      "nbconvert_exporter": "python",
      "pygments_lexer": "ipython3",
      "version": "3.11.6"
    }
  },
  "nbformat": 4,
  "nbformat_minor": 0
}